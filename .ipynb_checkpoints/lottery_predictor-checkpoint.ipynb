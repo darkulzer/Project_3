{
 "cells": [
  {
   "cell_type": "code",
   "execution_count": 2,
   "metadata": {
    "_cell_guid": "b1076dfc-b9ad-4769-8c92-a6c4dae69d19",
    "_uuid": "8f2839f25d086af736a60e9eeb907d3b93b6e0e5"
   },
   "outputs": [],
   "source": [
    "# This Python 3 environment comes with many helpful analytics libraries installed\n",
    "# It is defined by the kaggle/python docker image: https://github.com/kaggle/docker-python\n",
    "# For example, here's several helpful packages to load in \n",
    "\n",
    "import numpy as np # linear algebra\n",
    "import pandas as pd # data processing, CSV file I/O (e.g. pd.read_csv)\n",
    "\n",
    "# Input data files are available in the \"../input/\" directory.\n",
    "# For example, running this (by clicking run or pressing Shift+Enter) will list the files in the input directory\n",
    "\n",
    "import os\n",
    "\n",
    "# Any results you write to the current directory are saved as output."
   ]
  },
  {
   "cell_type": "code",
   "execution_count": 4,
   "metadata": {
    "_cell_guid": "79c7e3d0-c299-4dcb-8224-4455121ee9b0",
    "_uuid": "d629ff2d2480ee46fbb7e2d37f6b5fab8052498a"
   },
   "outputs": [],
   "source": [
    "#Loading the data into Notebook\n",
    "data = pd.read_csv(\"Lottery_Mega_Millions_Winning_Numbers__Beginning_2002 (1).csv\")"
   ]
  },
  {
   "cell_type": "code",
   "execution_count": 99,
   "metadata": {
    "_uuid": "732b9cf1d6d43c8950a7743e6593557271dd9dc4",
    "collapsed": true
   },
   "outputs": [],
   "source": [
    "\"\"\"Two Methods presented\n",
    "   METHOD 1 IS A SIMPLE SVM CLASSIFIER: This method seeks only to predict if Division 1 winnter or not\n",
    "   Columns used to predict are Prize Payable, Rollover, Rollover count and Next Estimated Jackpot\"\"\"\n",
    "y = data.iloc[:, 16:17].values\n",
    "X = data.iloc[:, 24:28].values\n",
    "y1 = np.where(y>=1, 1, 0)#Converting the y data to binary. 0 represents no winner and 1 represents a winner on division 1.\n"
   ]
  },
  {
   "cell_type": "code",
   "execution_count": 100,
   "metadata": {
    "_uuid": "c4e3c28f807dda5f99f44d7dcf61e99aad2968a4",
    "collapsed": true
   },
   "outputs": [],
   "source": [
    "# Splitting the dataset into the Training set and Test set\n",
    "from sklearn.model_selection import train_test_split\n",
    "X_train, X_test, y_train, y_test = train_test_split(X, y1, test_size = 0.25, random_state = 0)\n",
    "\n"
   ]
  },
  {
   "cell_type": "code",
   "execution_count": 102,
   "metadata": {
    "_uuid": "3791934494606c1d67539191efdde4c03f2749da",
    "collapsed": true
   },
   "outputs": [],
   "source": [
    "#Suppressing warnings on use of Standard Scaler: DataConversionWarning. Changing data with input dtype int64 to floar64 by StandardScaler\n",
    "import warnings\n",
    "\n",
    "def fxn():\n",
    "    warnings.warn(\"deprecated\", DeprecationWarning)\n",
    "\n",
    "with warnings.catch_warnings():\n",
    "    warnings.simplefilter(\"ignore\")\n",
    "    fxn()\n",
    "# Feature Scaling\n",
    "from sklearn.preprocessing import StandardScaler\n",
    "sc = StandardScaler()\n",
    "X_train = sc.fit_transform(X_train)\n",
    "X_test = sc.transform(X_test)"
   ]
  },
  {
   "cell_type": "code",
   "execution_count": 103,
   "metadata": {
    "_uuid": "88c579b9c9a6c8ca4dd80124f3c6481a1a5d637a",
    "collapsed": true
   },
   "outputs": [],
   "source": [
    "# Fitting Kernel SVM to the Training set\n",
    "from sklearn.svm import SVC\n",
    "classifier = SVC(kernel = 'linear', C = 10, random_state = 0)\n",
    "classifier.fit(X_train, y_train.ravel())"
   ]
  },
  {
   "cell_type": "code",
   "execution_count": 104,
   "metadata": {
    "_uuid": "e156ff43582a6dcde6786e732546700af4dcfd31",
    "collapsed": true
   },
   "outputs": [],
   "source": [
    "# Predicting the Test set results\n",
    "y_pred = classifier.predict(X_test)\n"
   ]
  },
  {
   "cell_type": "code",
   "execution_count": 105,
   "metadata": {
    "_uuid": "9b6d9dcb7a21ea4eb055d86a315c8566c74e3326",
    "collapsed": true
   },
   "outputs": [],
   "source": [
    "#Comparing the Test Data to the predicted data. This is a 100% Match.\n",
    "#Turn both arrays to pandas DataFrames and concantenate\n",
    "y_test = pd.DataFrame(y_test)\n",
    "y_pred = pd.DataFrame(y_pred)\n",
    "result = pd.concat([y_test, y_pred], axis = 1, sort = False)\n",
    "result\n"
   ]
  },
  {
   "cell_type": "code",
   "execution_count": 106,
   "metadata": {
    "_uuid": "4313ff7ea34dd934406a45df9d86f23cd36a6ab2",
    "collapsed": true
   },
   "outputs": [],
   "source": [
    "# Making the Confusion Matrix for Visualization of the data\n",
    "from sklearn.metrics import confusion_matrix\n",
    "cm = confusion_matrix(y_test, y_pred)\n",
    "score = classifier.score(X_test, y_test)\n",
    "score"
   ]
  },
  {
   "cell_type": "code",
   "execution_count": 107,
   "metadata": {
    "_uuid": "01f49d804a3b3bcb67d554185e929211f5479e2d",
    "collapsed": true
   },
   "outputs": [],
   "source": [
    "#Plotting the Confusion Matrix\n",
    "import matplotlib.pyplot as plt\n",
    "plt.matshow(cm)\n",
    "plt.title('Confusion matrix')\n",
    "plt.colorbar()\n",
    "plt.ylabel('True label')\n",
    "plt.xlabel('Predicted label')\n",
    "plt.show()"
   ]
  },
  {
   "cell_type": "code",
   "execution_count": 108,
   "metadata": {
    "_uuid": "44a1b1bfa1496b673669287e262b799fd8033437",
    "collapsed": true
   },
   "outputs": [],
   "source": [
    "# Applying k-Fold Cross Validation to check for mean and Variance\n",
    "from sklearn.model_selection import cross_val_score\n",
    "accuracies = cross_val_score(estimator = classifier, X = X_train, y = y_train.ravel(), cv = 10)\n",
    "Mean = accuracies.mean()#Mean close to 1\n",
    "Variance = accuracies.std()#Low Variance\n",
    "print(Variance, Mean)"
   ]
  },
  {
   "cell_type": "code",
   "execution_count": 109,
   "metadata": {
    "_uuid": "0c070631a16a46683f4e160c134532980bd79544",
    "collapsed": true
   },
   "outputs": [],
   "source": [
    "\"\"\"METHOD 2. Using ROC to calculate the area under the curve.\n",
    "This method is also used to predict the number of winners in division 1 if indeed\n",
    "there are winners \"\"\"\n",
    "\n",
    "# Binarize the output\n",
    "\"\"\"The Binerizer output helps identify the number of winners\"\"\"\n",
    "from sklearn.preprocessing import label_binarize\n",
    "y = label_binarize(y, classes=[0, 1, 2])\n",
    "n_classes = y.shape[1]\n",
    "y"
   ]
  },
  {
   "cell_type": "code",
   "execution_count": 110,
   "metadata": {
    "_uuid": "c51c3da03248c0b436bed11f24635e84a49d5954",
    "collapsed": true
   },
   "outputs": [],
   "source": [
    "#Splitting the Dataset to Training and Test set\n",
    "from sklearn.model_selection import train_test_split\n",
    "X_train, X_test, y_train, y_test = train_test_split(X, y, test_size = 0.25, random_state = 0)\n"
   ]
  },
  {
   "cell_type": "code",
   "execution_count": 111,
   "metadata": {
    "_uuid": "9b539e3155a13f4f0d9a9f44ea4b2374581e2d32",
    "collapsed": true
   },
   "outputs": [],
   "source": [
    "# Feature Scaling\n",
    "from sklearn.preprocessing import StandardScaler\n",
    "sc = StandardScaler()\n",
    "X_train = sc.fit_transform(X_train)\n",
    "X_test = sc.transform(X_test)\n"
   ]
  },
  {
   "cell_type": "code",
   "execution_count": 112,
   "metadata": {
    "_uuid": "ff88ae3e08d1eab76c6f8fba8e057f1b4ff9d4a0",
    "collapsed": true
   },
   "outputs": [],
   "source": [
    "#This is a multi output classifier\n",
    "from sklearn.svm import SVC\n",
    "from sklearn.multiclass import OneVsRestClassifier\n",
    "classifier = OneVsRestClassifier(SVC(kernel = 'linear', probability = True,\n",
    "                                 random_state = 0))\n",
    "y_score = classifier.fit(X_train, y_train).decision_function(X_test)\n",
    "y_score\n"
   ]
  },
  {
   "cell_type": "code",
   "execution_count": 113,
   "metadata": {
    "_uuid": "e031cc025811b2f72ba6e8c899694f9b6df0b3ec",
    "collapsed": true
   },
   "outputs": [],
   "source": [
    "#Plotting the ROC Curve\n",
    "from sklearn.metrics import roc_curve, auc\n",
    "fpr = dict()\n",
    "tpr = dict()\n",
    "roc_auc = dict()\n",
    "\n",
    "for i in range(n_classes):\n",
    "    fpr[i], tpr[i], _ = roc_curve(y_test[:, i], y_score[:, i])\n",
    "    roc_auc[i] = auc(fpr[i], tpr[i])"
   ]
  },
  {
   "cell_type": "code",
   "execution_count": 114,
   "metadata": {
    "_uuid": "c0b8d74f57acfaace9e8e361f153eedf72ec2474",
    "collapsed": true
   },
   "outputs": [],
   "source": [
    "fpr[\"micro\"], tpr[\"micro\"], _ = roc_curve(y_test.ravel(), y_score.ravel())\n",
    "roc_auc[\"micro\"] = auc(fpr[\"micro\"], tpr[\"micro\"])\n",
    "\n",
    "plt.figure()\n",
    "lw = 2\n",
    "plt.plot(fpr[2], tpr[2], color='darkorange',\n",
    "         lw=lw, label='ROC curve (area = %0.2f)' % roc_auc[2])\n",
    "plt.plot([0, 1], [0, 1], color='navy', lw=lw, linestyle='--')\n",
    "plt.xlim([0.0, 1.0])\n",
    "plt.ylim([0.0, 1.05])\n",
    "plt.xlabel('False Positive Rate')\n",
    "plt.ylabel('True Positive Rate')\n",
    "plt.title('Receiver operating characteristic example')\n",
    "plt.legend(loc=\"lower right\")\n",
    "plt.show()"
   ]
  }
 ],
 "metadata": {
  "kernelspec": {
   "display_name": "Python 3",
   "language": "python",
   "name": "python3"
  },
  "language_info": {
   "codemirror_mode": {
    "name": "ipython",
    "version": 3
   },
   "file_extension": ".py",
   "mimetype": "text/x-python",
   "name": "python",
   "nbconvert_exporter": "python",
   "pygments_lexer": "ipython3",
   "version": "3.7.6"
  }
 },
 "nbformat": 4,
 "nbformat_minor": 1
}
