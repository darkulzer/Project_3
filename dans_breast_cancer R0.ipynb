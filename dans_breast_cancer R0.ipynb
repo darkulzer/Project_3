{
 "cells": [
  {
<<<<<<< Updated upstream
=======
   "cell_type": "markdown",
   "metadata": {},
   "source": [
    "## Introduction\n",
    "Breast cancer (BC) is one of the most common cancers among women worldwide, representing the majority of new cancer cases and cancer-related deaths according to global statistics, making it a significant public health problem in today’s society."
   ]
  },
  {
   "cell_type": "markdown",
   "metadata": {},
   "source": [
    "### Recommended Screening Guidelines:\n",
    "**Mammography.** The most important screening test for breast cancer is the mammogram. A mammogram is an X-ray of the breast. It can detect breast cancer up to two years before the tumor can be felt by you or your doctor.  \n",
    "**Women age 40–45 or older** who are at average risk of breast cancer should have a mammogram once a year.  \n",
    "**Women at high risk** should have yearly mammograms along with an MRI starting at age 30."
   ]
  },
  {
   "cell_type": "markdown",
   "metadata": {},
   "source": [
    "## Data Overview\n",
    "\n",
    "The digital mammography dataset used includes data derived from a random sample of 20,000 digital and 20,000 film-screen mammograms performed between January 2005 and December 2008 from women in the Breast Cancer Surveillance Consortium. "
   ]
  },
  {
   "cell_type": "markdown",
   "metadata": {},
   "source": [
    "### Explanation of DataSet\n",
    "\n",
    "1.**age_c**: patient's age in years at time of mammogram\n",
    "\n",
    "2.**assess_c**: Radiologist's assessment based on the BI-RADS scale  *(0 = Needs additional imaging, 1 = Negative, 2 = Benign, finding(s), 3 = Probably benign, 4 = Suspicious abnormality, 5 = Highly suggestive of malignancy)*\n",
    "\n",
    "3.**cancer_c**: binary indicator of cancer diagnosis within one year of screening mammogram  *(0 = no cancer diagnosis, \n",
    "1 = cancer diagnosis)*\n",
    "\n",
    "4.**compfilm_c**: comparison mammogram from prior mammography examination available  *(0 = no, 1 = yes, 9 = missing)*\n",
    "\n",
    "5.**density_c**: patient's BI-RADS breast density as recorded at time of mammogram  *(1 = Almost entirely fatty, 2 = Scattered fibroglandular densities, 3 = Heterogeneously dense, 4 = Extremely dense)*\n",
    "\n",
    "6.**famhx_c**: family history of breast cancer in a first degree relative  *(0 = no, 1 = yes, 9 = missing)*\n",
    "\n",
    "7.**hrt_c**: current use of hormone therapy at time of mammogram  *(0 = no, 1 = yes, 9 = missing)*\n",
    "\n",
    "8.**prvmam_c**: binary indicator of whether the woman had ever received a prior mammogram  *(0 = no, 1 = yes, 9 = missing)*\n",
    "\n",
    "9.**biophx_c**: history of breast biopsy  *(0 = no, 1 = yes, 9 = missing)*\n",
    "\n",
    "10.**mammtype**: film or digital mammogram  *(1 = film mammogram, 2 = digital mammogram)*\n",
    "\n",
    "11.**CaTypeO**: cancer type  *(1 = ductal carcinoma in situ, 2 = invasive cancer, 8 = no cancer diagnosis)*\n",
    "\n",
    "12.**bmi_c**: body mass index at time of mammogram  *(Numerical or -99 if missing)*\n",
    "\n",
    "13.**ptid**: patient's study id"
   ]
  },
  {
   "cell_type": "markdown",
   "metadata": {},
   "source": [
    "## Data Exploration"
   ]
  },
  {
>>>>>>> Stashed changes
   "cell_type": "code",
   "execution_count": 1,
   "metadata": {},
   "outputs": [],
   "source": [
    "import numpy as np\n",
    "import pandas as pd\n",
    "import os\n",
    "import matplotlib.pyplot as plt\n",
    "import seaborn as sns\n",
    "\n",
    "from sklearn.preprocessing import LabelEncoder\n",
    "from sklearn.preprocessing import MinMaxScaler\n",
    "from sklearn.model_selection import train_test_split\n",
    "from sklearn.neighbors import KNeighborsClassifier\n",
    "from sklearn.feature_selection import SelectKBest, chi2\n",
    "from sklearn.ensemble import RandomForestClassifier\n",
<<<<<<< Updated upstream
    "from sklearn.linear_model import LogisticRegression\n"
=======
    "from sklearn.linear_model import LogisticRegression\n",
    "from sklearn import svm, datasets\n",
    "from sklearn.metrics import plot_confusion_matrix\n",
    "from sklearn.metrics import accuracy_score\n",
    "from sklearn.preprocessing import StandardScaler\n",
    "from sklearn.metrics import confusion_matrix\n",
    "from sklearn.model_selection import cross_val_score"
>>>>>>> Stashed changes
   ]
  },
  {
   "cell_type": "code",
   "execution_count": 2,
   "metadata": {},
   "outputs": [
    {
     "data": {
      "text/html": [
       "<div>\n",
       "<style scoped>\n",
       "    .dataframe tbody tr th:only-of-type {\n",
       "        vertical-align: middle;\n",
       "    }\n",
       "\n",
       "    .dataframe tbody tr th {\n",
       "        vertical-align: top;\n",
       "    }\n",
       "\n",
       "    .dataframe thead th {\n",
       "        text-align: right;\n",
       "    }\n",
       "</style>\n",
       "<table border=\"1\" class=\"dataframe\">\n",
       "  <thead>\n",
       "    <tr style=\"text-align: right;\">\n",
       "      <th></th>\n",
       "      <th>age_c</th>\n",
       "      <th>assess_c</th>\n",
       "      <th>cancer_c</th>\n",
       "      <th>compfilm_c</th>\n",
       "      <th>density_c</th>\n",
       "      <th>famhx_c</th>\n",
       "      <th>hrt_c</th>\n",
       "      <th>prvmam_c</th>\n",
       "      <th>biophx_c</th>\n",
       "      <th>mammtype</th>\n",
       "      <th>CaTypeO</th>\n",
       "      <th>bmi_c</th>\n",
       "      <th>ptid</th>\n",
       "    </tr>\n",
       "  </thead>\n",
       "  <tbody>\n",
       "    <tr>\n",
       "      <th>0</th>\n",
       "      <td>62</td>\n",
       "      <td>1</td>\n",
       "      <td>0</td>\n",
       "      <td>1</td>\n",
       "      <td>2</td>\n",
       "      <td>0</td>\n",
       "      <td>0</td>\n",
       "      <td>1</td>\n",
       "      <td>0</td>\n",
       "      <td>1</td>\n",
       "      <td>8</td>\n",
       "      <td>24.023544</td>\n",
       "      <td>1</td>\n",
       "    </tr>\n",
       "    <tr>\n",
       "      <th>1</th>\n",
       "      <td>65</td>\n",
       "      <td>1</td>\n",
       "      <td>0</td>\n",
       "      <td>1</td>\n",
       "      <td>4</td>\n",
       "      <td>0</td>\n",
       "      <td>0</td>\n",
       "      <td>1</td>\n",
       "      <td>0</td>\n",
       "      <td>1</td>\n",
       "      <td>8</td>\n",
       "      <td>-99.000000</td>\n",
       "      <td>2</td>\n",
       "    </tr>\n",
       "    <tr>\n",
       "      <th>2</th>\n",
       "      <td>69</td>\n",
       "      <td>0</td>\n",
       "      <td>0</td>\n",
       "      <td>1</td>\n",
       "      <td>2</td>\n",
       "      <td>0</td>\n",
       "      <td>0</td>\n",
       "      <td>1</td>\n",
       "      <td>0</td>\n",
       "      <td>1</td>\n",
       "      <td>8</td>\n",
       "      <td>29.052429</td>\n",
       "      <td>3</td>\n",
       "    </tr>\n",
       "    <tr>\n",
       "      <th>3</th>\n",
       "      <td>64</td>\n",
       "      <td>2</td>\n",
       "      <td>0</td>\n",
       "      <td>1</td>\n",
       "      <td>2</td>\n",
       "      <td>0</td>\n",
       "      <td>0</td>\n",
       "      <td>1</td>\n",
       "      <td>0</td>\n",
       "      <td>1</td>\n",
       "      <td>8</td>\n",
       "      <td>-99.000000</td>\n",
       "      <td>4</td>\n",
       "    </tr>\n",
       "    <tr>\n",
       "      <th>4</th>\n",
       "      <td>63</td>\n",
       "      <td>3</td>\n",
       "      <td>0</td>\n",
       "      <td>1</td>\n",
       "      <td>2</td>\n",
       "      <td>0</td>\n",
       "      <td>0</td>\n",
       "      <td>1</td>\n",
       "      <td>1</td>\n",
       "      <td>1</td>\n",
       "      <td>8</td>\n",
       "      <td>33.729523</td>\n",
       "      <td>5</td>\n",
       "    </tr>\n",
       "  </tbody>\n",
       "</table>\n",
       "</div>"
      ],
      "text/plain": [
       "   age_c  assess_c  cancer_c  compfilm_c  density_c  famhx_c  hrt_c  prvmam_c  \\\n",
       "0     62         1         0           1          2        0      0         1   \n",
       "1     65         1         0           1          4        0      0         1   \n",
       "2     69         0         0           1          2        0      0         1   \n",
       "3     64         2         0           1          2        0      0         1   \n",
       "4     63         3         0           1          2        0      0         1   \n",
       "\n",
       "   biophx_c  mammtype  CaTypeO      bmi_c  ptid  \n",
       "0         0         1        8  24.023544     1  \n",
       "1         0         1        8 -99.000000     2  \n",
       "2         0         1        8  29.052429     3  \n",
       "3         0         1        8 -99.000000     4  \n",
       "4         1         1        8  33.729523     5  "
      ]
     },
     "execution_count": 2,
     "metadata": {},
     "output_type": "execute_result"
    }
   ],
   "source": [
    "dataset = pd.read_csv('Resources/dataset.csv')\n",
    "dataset.head()"
   ]
  },
  {
   "cell_type": "code",
   "execution_count": 3,
   "metadata": {},
   "outputs": [
    {
     "name": "stdout",
     "output_type": "stream",
     "text": [
      "<class 'pandas.core.frame.DataFrame'>\n",
      "RangeIndex: 40000 entries, 0 to 39999\n",
      "Data columns (total 13 columns):\n",
      " #   Column      Non-Null Count  Dtype  \n",
      "---  ------      --------------  -----  \n",
      " 0   age_c       40000 non-null  int64  \n",
      " 1   assess_c    40000 non-null  int64  \n",
      " 2   cancer_c    40000 non-null  int64  \n",
      " 3   compfilm_c  40000 non-null  int64  \n",
      " 4   density_c   40000 non-null  int64  \n",
      " 5   famhx_c     40000 non-null  int64  \n",
      " 6   hrt_c       40000 non-null  int64  \n",
      " 7   prvmam_c    40000 non-null  int64  \n",
      " 8   biophx_c    40000 non-null  int64  \n",
      " 9   mammtype    40000 non-null  int64  \n",
      " 10  CaTypeO     40000 non-null  int64  \n",
      " 11  bmi_c       40000 non-null  float64\n",
      " 12  ptid        40000 non-null  int64  \n",
      "dtypes: float64(1), int64(12)\n",
      "memory usage: 4.0 MB\n"
     ]
    }
   ],
   "source": [
    "dataset.info()"
   ]
  },
  {
   "cell_type": "code",
   "execution_count": 4,
   "metadata": {},
   "outputs": [
    {
<<<<<<< Updated upstream
     "data": {
      "text/html": [
       "<div>\n",
       "<style scoped>\n",
       "    .dataframe tbody tr th:only-of-type {\n",
       "        vertical-align: middle;\n",
       "    }\n",
       "\n",
       "    .dataframe tbody tr th {\n",
       "        vertical-align: top;\n",
       "    }\n",
       "\n",
       "    .dataframe thead th {\n",
       "        text-align: right;\n",
       "    }\n",
       "</style>\n",
       "<table border=\"1\" class=\"dataframe\">\n",
       "  <thead>\n",
       "    <tr style=\"text-align: right;\">\n",
       "      <th></th>\n",
       "      <th>age_c</th>\n",
       "      <th>assess_c</th>\n",
       "      <th>cancer_c</th>\n",
       "      <th>compfilm_c</th>\n",
       "      <th>density_c</th>\n",
       "      <th>famhx_c</th>\n",
       "      <th>hrt_c</th>\n",
       "      <th>prvmam_c</th>\n",
       "      <th>biophx_c</th>\n",
       "      <th>mammtype</th>\n",
       "      <th>CaTypeO</th>\n",
       "      <th>bmi_c</th>\n",
       "      <th>ptid</th>\n",
       "    </tr>\n",
       "  </thead>\n",
       "  <tbody>\n",
       "    <tr>\n",
       "      <th>count</th>\n",
       "      <td>40000.000000</td>\n",
       "      <td>40000.000000</td>\n",
       "      <td>40000.000000</td>\n",
       "      <td>40000.000000</td>\n",
       "      <td>40000.000000</td>\n",
       "      <td>40000.000000</td>\n",
       "      <td>40000.000000</td>\n",
       "      <td>40000.000000</td>\n",
       "      <td>40000.000000</td>\n",
       "      <td>40000.000000</td>\n",
       "      <td>40000.000000</td>\n",
       "      <td>40000.000000</td>\n",
       "      <td>40000.000000</td>\n",
       "    </tr>\n",
       "    <tr>\n",
       "      <th>mean</th>\n",
       "      <td>69.555850</td>\n",
       "      <td>1.203450</td>\n",
       "      <td>0.006475</td>\n",
       "      <td>1.903450</td>\n",
       "      <td>2.229725</td>\n",
       "      <td>0.219875</td>\n",
       "      <td>0.504925</td>\n",
       "      <td>1.108200</td>\n",
       "      <td>0.444675</td>\n",
       "      <td>1.500000</td>\n",
       "      <td>7.959750</td>\n",
       "      <td>-46.164809</td>\n",
       "      <td>18376.250225</td>\n",
       "    </tr>\n",
       "    <tr>\n",
       "      <th>std</th>\n",
       "      <td>7.202974</td>\n",
       "      <td>0.575775</td>\n",
       "      <td>0.080207</td>\n",
       "      <td>2.589304</td>\n",
       "      <td>0.716355</td>\n",
       "      <td>0.762853</td>\n",
       "      <td>1.854633</td>\n",
       "      <td>0.959435</td>\n",
       "      <td>1.309191</td>\n",
       "      <td>0.500006</td>\n",
       "      <td>0.499686</td>\n",
       "      <td>62.225752</td>\n",
       "      <td>10601.991024</td>\n",
       "    </tr>\n",
       "    <tr>\n",
       "      <th>min</th>\n",
       "      <td>60.000000</td>\n",
       "      <td>0.000000</td>\n",
       "      <td>0.000000</td>\n",
       "      <td>0.000000</td>\n",
       "      <td>1.000000</td>\n",
       "      <td>0.000000</td>\n",
       "      <td>0.000000</td>\n",
       "      <td>0.000000</td>\n",
       "      <td>0.000000</td>\n",
       "      <td>1.000000</td>\n",
       "      <td>1.000000</td>\n",
       "      <td>-99.000000</td>\n",
       "      <td>1.000000</td>\n",
       "    </tr>\n",
       "    <tr>\n",
       "      <th>25%</th>\n",
       "      <td>63.000000</td>\n",
       "      <td>1.000000</td>\n",
       "      <td>0.000000</td>\n",
       "      <td>1.000000</td>\n",
       "      <td>2.000000</td>\n",
       "      <td>0.000000</td>\n",
       "      <td>0.000000</td>\n",
       "      <td>1.000000</td>\n",
       "      <td>0.000000</td>\n",
       "      <td>1.000000</td>\n",
       "      <td>8.000000</td>\n",
       "      <td>-99.000000</td>\n",
       "      <td>9202.750000</td>\n",
       "    </tr>\n",
       "    <tr>\n",
       "      <th>50%</th>\n",
       "      <td>68.000000</td>\n",
       "      <td>1.000000</td>\n",
       "      <td>0.000000</td>\n",
       "      <td>1.000000</td>\n",
       "      <td>2.000000</td>\n",
       "      <td>0.000000</td>\n",
       "      <td>0.000000</td>\n",
       "      <td>1.000000</td>\n",
       "      <td>0.000000</td>\n",
       "      <td>1.500000</td>\n",
       "      <td>8.000000</td>\n",
       "      <td>-99.000000</td>\n",
       "      <td>18392.500000</td>\n",
       "    </tr>\n",
       "    <tr>\n",
       "      <th>75%</th>\n",
       "      <td>75.000000</td>\n",
       "      <td>2.000000</td>\n",
       "      <td>0.000000</td>\n",
       "      <td>1.000000</td>\n",
       "      <td>3.000000</td>\n",
       "      <td>0.000000</td>\n",
       "      <td>0.000000</td>\n",
       "      <td>1.000000</td>\n",
       "      <td>1.000000</td>\n",
       "      <td>2.000000</td>\n",
       "      <td>8.000000</td>\n",
       "      <td>24.691544</td>\n",
       "      <td>27562.250000</td>\n",
       "    </tr>\n",
       "    <tr>\n",
       "      <th>max</th>\n",
       "      <td>89.000000</td>\n",
       "      <td>5.000000</td>\n",
       "      <td>1.000000</td>\n",
       "      <td>9.000000</td>\n",
       "      <td>4.000000</td>\n",
       "      <td>9.000000</td>\n",
       "      <td>9.000000</td>\n",
       "      <td>9.000000</td>\n",
       "      <td>9.000000</td>\n",
       "      <td>2.000000</td>\n",
       "      <td>8.000000</td>\n",
       "      <td>71.721314</td>\n",
       "      <td>36714.000000</td>\n",
       "    </tr>\n",
       "  </tbody>\n",
       "</table>\n",
       "</div>"
      ],
      "text/plain": [
       "              age_c      assess_c      cancer_c    compfilm_c     density_c  \\\n",
       "count  40000.000000  40000.000000  40000.000000  40000.000000  40000.000000   \n",
       "mean      69.555850      1.203450      0.006475      1.903450      2.229725   \n",
       "std        7.202974      0.575775      0.080207      2.589304      0.716355   \n",
       "min       60.000000      0.000000      0.000000      0.000000      1.000000   \n",
       "25%       63.000000      1.000000      0.000000      1.000000      2.000000   \n",
       "50%       68.000000      1.000000      0.000000      1.000000      2.000000   \n",
       "75%       75.000000      2.000000      0.000000      1.000000      3.000000   \n",
       "max       89.000000      5.000000      1.000000      9.000000      4.000000   \n",
       "\n",
       "            famhx_c         hrt_c      prvmam_c      biophx_c      mammtype  \\\n",
       "count  40000.000000  40000.000000  40000.000000  40000.000000  40000.000000   \n",
       "mean       0.219875      0.504925      1.108200      0.444675      1.500000   \n",
       "std        0.762853      1.854633      0.959435      1.309191      0.500006   \n",
       "min        0.000000      0.000000      0.000000      0.000000      1.000000   \n",
       "25%        0.000000      0.000000      1.000000      0.000000      1.000000   \n",
       "50%        0.000000      0.000000      1.000000      0.000000      1.500000   \n",
       "75%        0.000000      0.000000      1.000000      1.000000      2.000000   \n",
       "max        9.000000      9.000000      9.000000      9.000000      2.000000   \n",
       "\n",
       "            CaTypeO         bmi_c          ptid  \n",
       "count  40000.000000  40000.000000  40000.000000  \n",
       "mean       7.959750    -46.164809  18376.250225  \n",
       "std        0.499686     62.225752  10601.991024  \n",
       "min        1.000000    -99.000000      1.000000  \n",
       "25%        8.000000    -99.000000   9202.750000  \n",
       "50%        8.000000    -99.000000  18392.500000  \n",
       "75%        8.000000     24.691544  27562.250000  \n",
       "max        8.000000     71.721314  36714.000000  "
      ]
     },
     "execution_count": 4,
=======
     "name": "stdout",
     "output_type": "stream",
     "text": [
      "Mammography dataset dimensions :(40000, 13)\n"
     ]
    }
   ],
   "source": [
    "print(\"Mammography dataset dimensions :{}\".format(dataset.shape))"
   ]
  },
  {
   "cell_type": "code",
   "execution_count": 5,
   "metadata": {},
   "outputs": [
    {
     "data": {
      "text/plain": [
       "CaTypeO\n",
       "1       56\n",
       "2      203\n",
       "8    39741\n",
       "dtype: int64"
      ]
     },
     "execution_count": 5,
>>>>>>> Stashed changes
     "metadata": {},
     "output_type": "execute_result"
    }
   ],
   "source": [
<<<<<<< Updated upstream
    "dataset.describe()"
=======
    "dataset.groupby('CaTypeO').size()"
>>>>>>> Stashed changes
   ]
  },
  {
   "cell_type": "code",
<<<<<<< Updated upstream
   "execution_count": 5,
=======
   "execution_count": 6,
   "metadata": {
    "scrolled": false
   },
   "outputs": [
    {
     "data": {
      "text/plain": [
       "CaTypeO\n",
       "1    [[AxesSubplot(0.125,0.725918;0.215278x0.154082...\n",
       "2    [[AxesSubplot(0.125,0.725918;0.215278x0.154082...\n",
       "8    [[AxesSubplot(0.125,0.725918;0.215278x0.154082...\n",
       "dtype: object"
      ]
     },
     "execution_count": 6,
     "metadata": {},
     "output_type": "execute_result"
    },
    {
     "data": {
      "image/png": "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\n",
      "text/plain": [
       "<Figure size 792x792 with 12 Axes>"
      ]
     },
     "metadata": {
      "needs_background": "light"
     },
     "output_type": "display_data"
    },
    {
     "data": {
      "image/png": "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\n",
      "text/plain": [
       "<Figure size 792x792 with 12 Axes>"
      ]
     },
     "metadata": {
      "needs_background": "light"
     },
     "output_type": "display_data"
    },
    {
     "data": {
      "image/png": "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\n",
      "text/plain": [
       "<Figure size 792x792 with 12 Axes>"
      ]
     },
     "metadata": {
      "needs_background": "light"
     },
     "output_type": "display_data"
    }
   ],
   "source": [
    "dataset.groupby('CaTypeO').hist(figsize=(11, 11))"
   ]
  },
  {
   "cell_type": "markdown",
   "metadata": {},
   "source": [
    "### Missing or Null Data points"
   ]
  },
  {
   "cell_type": "code",
   "execution_count": 7,
>>>>>>> Stashed changes
   "metadata": {},
   "outputs": [
    {
     "data": {
      "text/plain": [
       "age_c         0\n",
       "assess_c      0\n",
       "cancer_c      0\n",
       "compfilm_c    0\n",
       "density_c     0\n",
       "famhx_c       0\n",
       "hrt_c         0\n",
       "prvmam_c      0\n",
       "biophx_c      0\n",
       "mammtype      0\n",
       "CaTypeO       0\n",
       "bmi_c         0\n",
       "ptid          0\n",
       "dtype: int64"
      ]
     },
<<<<<<< Updated upstream
     "execution_count": 5,
=======
     "execution_count": 7,
>>>>>>> Stashed changes
     "metadata": {},
     "output_type": "execute_result"
    }
   ],
   "source": [
    "dataset.isna().sum()"
   ]
  },
  {
   "cell_type": "code",
<<<<<<< Updated upstream
   "execution_count": 6,
=======
   "execution_count": 8,
>>>>>>> Stashed changes
   "metadata": {},
   "outputs": [
    {
     "name": "stdout",
     "output_type": "stream",
     "text": [
      "<class 'pandas.core.frame.DataFrame'>\n",
      "Int64Index: 32772 entries, 0 to 39999\n",
      "Data columns (total 12 columns):\n",
      " #   Column      Non-Null Count  Dtype  \n",
      "---  ------      --------------  -----  \n",
      " 0   age_c       32772 non-null  int64  \n",
      " 1   assess_c    32772 non-null  int64  \n",
      " 2   cancer_c    32772 non-null  int64  \n",
      " 3   compfilm_c  32772 non-null  int64  \n",
      " 4   density_c   32772 non-null  int64  \n",
      " 5   famhx_c     32772 non-null  int64  \n",
      " 6   hrt_c       32772 non-null  int64  \n",
      " 7   prvmam_c    32772 non-null  int64  \n",
      " 8   biophx_c    32772 non-null  int64  \n",
      " 9   mammtype    32772 non-null  int64  \n",
      " 10  CaTypeO     32772 non-null  int64  \n",
      " 11  bmi_c       32772 non-null  float64\n",
      "dtypes: float64(1), int64(11)\n",
      "memory usage: 3.3 MB\n"
     ]
    }
   ],
   "source": [
    "# replace Nil values with 9\n",
<<<<<<< Updated upstream
    "#dataset['bmi_c'] = dataset['bmi_c'].replace([-99], 9)\n",
    "#Convert 8 placeholder to 0 \n",
    "dataset['CaTypeO'] = dataset['CaTypeO'].replace([8], 0)\n",
    "# Merge positive cancer diagnosis, versus positive cancer types\n",
    "dataset['CaTypeO'] = dataset['CaTypeO'].replace([2], 1)\n",
    "#drop null values identified by the numeric value '9'\n",
=======
    "dataset['bmi_c'] = dataset['bmi_c'].replace([-99], 9)\n",
    "# Convert 8 placeholder to 0 \n",
    "dataset['CaTypeO'] = dataset['CaTypeO'].replace([8], 0)\n",
    "# Merge positive cancer diagnosis, versus positive cancer types\n",
    "dataset['CaTypeO'] = dataset['CaTypeO'].replace([2], 1)\n",
    "# drop null values identified by the numeric value '9'\n",
>>>>>>> Stashed changes
    "dataset = dataset[dataset.compfilm_c != 9]\n",
    "dataset = dataset[dataset.famhx_c != 9]\n",
    "dataset = dataset[dataset.hrt_c != 9]\n",
    "dataset = dataset[dataset.prvmam_c != 9]\n",
    "dataset = dataset[dataset.biophx_c != 9]\n",
<<<<<<< Updated upstream
    "dataset = dataset[dataset.bmi_c != 9]\n",
    "#delete ptid column\n",
    "del dataset['ptid']\n",
    "#Print info again \n",
=======
    "#dataset = dataset[dataset.bmi_c != 9]\n",
    "# delete ptid column\n",
    "del dataset['ptid']\n",
    "# Print info again \n",
>>>>>>> Stashed changes
    "dataset.info()"
   ]
  },
  {
   "cell_type": "code",
<<<<<<< Updated upstream
   "execution_count": 7,
=======
   "execution_count": 9,
   "metadata": {},
   "outputs": [
    {
     "data": {
      "text/plain": [
       "CaTypeO\n",
       "0    32577\n",
       "1      195\n",
       "dtype: int64"
      ]
     },
     "execution_count": 9,
     "metadata": {},
     "output_type": "execute_result"
    }
   ],
   "source": [
    "dataset.groupby('CaTypeO').size()"
   ]
  },
  {
   "cell_type": "code",
   "execution_count": 10,
   "metadata": {},
   "outputs": [
    {
     "data": {
      "text/plain": [
       "CaTypeO\n",
       "0    [[AxesSubplot(0.125,0.725918;0.215278x0.154082...\n",
       "1    [[AxesSubplot(0.125,0.725918;0.215278x0.154082...\n",
       "dtype: object"
      ]
     },
     "execution_count": 10,
     "metadata": {},
     "output_type": "execute_result"
    },
    {
     "data": {
      "image/png": "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\n",
      "text/plain": [
       "<Figure size 792x792 with 12 Axes>"
      ]
     },
     "metadata": {
      "needs_background": "light"
     },
     "output_type": "display_data"
    },
    {
     "data": {
      "image/png": "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\n",
      "text/plain": [
       "<Figure size 792x792 with 12 Axes>"
      ]
     },
     "metadata": {
      "needs_background": "light"
     },
     "output_type": "display_data"
    }
   ],
   "source": [
    "dataset.groupby('CaTypeO').hist(figsize=(11, 11))"
   ]
  },
  {
   "cell_type": "markdown",
   "metadata": {},
   "source": [
    "***do we need this?***"
   ]
  },
  {
   "cell_type": "code",
   "execution_count": 11,
>>>>>>> Stashed changes
   "metadata": {},
   "outputs": [
    {
     "data": {
      "text/plain": [
       "2    17474\n",
       "3     9652\n",
       "1     4551\n",
       "4     1095\n",
       "Name: density_c, dtype: int64"
      ]
     },
<<<<<<< Updated upstream
     "execution_count": 7,
=======
     "execution_count": 11,
>>>>>>> Stashed changes
     "metadata": {},
     "output_type": "execute_result"
    }
   ],
   "source": [
    "#Encode existing features\n",
    "dataset['density_c'].value_counts()\n",
    "\n",
    "#Not needed, breast tissue is already encoded in chronological order... "
   ]
  },
  {
<<<<<<< Updated upstream
   "cell_type": "code",
   "execution_count": 8,
=======
   "cell_type": "markdown",
   "metadata": {},
   "source": [
    "***do we need this?***"
   ]
  },
  {
   "cell_type": "code",
   "execution_count": 12,
>>>>>>> Stashed changes
   "metadata": {},
   "outputs": [
    {
     "data": {
      "text/plain": [
<<<<<<< Updated upstream
       "-99.000000    17613\n",
       " 24.799606      117\n",
       " 25.606049      116\n",
       " 27.463623      109\n",
       " 28.342407      100\n",
       "              ...  \n",
       " 23.012573        1\n",
       " 55.270538        1\n",
       " 29.239151        1\n",
       " 30.384354        1\n",
       " 39.135651        1\n",
       "Name: bmi_c, Length: 1848, dtype: int64"
      ]
     },
     "execution_count": 8,
=======
       "9.000000     17613\n",
       "24.799606      117\n",
       "25.606049      116\n",
       "27.463623      109\n",
       "28.342407      100\n",
       "             ...  \n",
       "29.468704        1\n",
       "18.397781        1\n",
       "45.561523        1\n",
       "15.662033        1\n",
       "31.566360        1\n",
       "Name: bmi_c, Length: 1848, dtype: int64"
      ]
     },
     "execution_count": 12,
>>>>>>> Stashed changes
     "metadata": {},
     "output_type": "execute_result"
    }
   ],
   "source": [
    "#Analyze BMI \n",
    "dataset['bmi_c'].value_counts()\n",
    "#Unable to further categorize based on wide array of data "
   ]
  },
  {
<<<<<<< Updated upstream
   "cell_type": "code",
   "execution_count": 9,
=======
   "cell_type": "markdown",
   "metadata": {},
   "source": [
    "### Categorical Data"
   ]
  },
  {
   "cell_type": "code",
   "execution_count": 13,
>>>>>>> Stashed changes
   "metadata": {},
   "outputs": [],
   "source": [
    "# label encode categorical columns\n",
    "\n",
    "lblEncoder_state = LabelEncoder()\n",
    "lblEncoder_state.fit(dataset['assess_c'])\n",
    "dataset['assess_c'] = lblEncoder_state.transform(dataset['assess_c'])\n",
    "\n",
    "lblEncoder_cons = LabelEncoder()\n",
    "lblEncoder_cons.fit(dataset['cancer_c'])\n",
    "dataset['cancer_c'] = lblEncoder_cons.transform(dataset['cancer_c'])\n",
    "\n",
    "lblEncoder_name = LabelEncoder()\n",
    "lblEncoder_name.fit(dataset['compfilm_c'])\n",
    "dataset['compfilm_c'] = lblEncoder_name.transform(dataset['compfilm_c'])\n",
    "\n",
    "lblEncoder_party = LabelEncoder()\n",
    "lblEncoder_party.fit(dataset['density_c'])\n",
    "dataset['density_c'] = lblEncoder_party.transform(dataset['density_c'])\n",
    "\n",
    "lblEncoder_symbol = LabelEncoder()\n",
    "lblEncoder_symbol.fit(dataset['famhx_c'])\n",
    "dataset['famhx_c'] = lblEncoder_symbol.transform(dataset['famhx_c'])\n",
    "\n",
    "lblEncoder_gender = LabelEncoder()\n",
    "lblEncoder_gender.fit(dataset['hrt_c'])\n",
    "dataset['hrt_c'] = lblEncoder_gender.transform(dataset['hrt_c'])\n",
    "\n",
    "lblEncoder_category = LabelEncoder()\n",
    "lblEncoder_category.fit(dataset['prvmam_c'])\n",
    "dataset['prvmam_c'] = lblEncoder_category.transform(dataset['prvmam_c'])\n",
    "\n",
    "lblEncoder_edu = LabelEncoder()\n",
    "lblEncoder_edu.fit(dataset['bmi_c'])\n",
    "dataset['bmi_c'] = lblEncoder_edu.transform(dataset['bmi_c'])\n",
    "\n",
    "lblEncoder_state = LabelEncoder()\n",
    "lblEncoder_state.fit(dataset['biophx_c'])\n",
    "dataset['biophx_c'] = lblEncoder_state.transform(dataset['biophx_c'])\n",
    "\n",
    "lblEncoder_state = LabelEncoder()\n",
    "lblEncoder_state.fit(dataset['mammtype'])\n",
    "dataset['mammtype'] = lblEncoder_state.transform(dataset['mammtype'])"
   ]
  },
  {
<<<<<<< Updated upstream
   "cell_type": "code",
   "execution_count": 10,
   "metadata": {},
   "outputs": [
    {
     "data": {
      "image/png": "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\n",
      "text/plain": [
       "<Figure size 576x1800 with 1 Axes>"
      ]
     },
     "metadata": {
      "needs_background": "light"
     },
     "output_type": "display_data"
    }
   ],
   "source": [
    "#At what age is Heart Disease shows up more? \n",
    "pd.crosstab(dataset.age_c,dataset.CaTypeO).plot(kind=\"barh\",figsize=(8,25))\n",
    "plt.title('Breast Cancer Diagnoses by Age')\n",
    "plt.xlabel('Frequency')\n",
    "plt.ylabel('Age')\n",
    "plt.show()"
   ]
  },
  {
   "cell_type": "code",
   "execution_count": 11,
   "metadata": {},
   "outputs": [
    {
     "data": {
      "image/png": "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\n",
      "text/plain": [
       "<Figure size 720x360 with 1 Axes>"
      ]
     },
     "metadata": {
      "needs_background": "light"
     },
     "output_type": "display_data"
    }
   ],
   "source": [
    "pd.crosstab(dataset.hrt_c,dataset.CaTypeO).plot(kind=\"bar\",figsize=(10,5),color=['teal','lavender' ])\n",
    "plt.xlabel('Hormone Therapy (0 = no, 1 = yes)')\n",
    "plt.xticks(rotation=0)\n",
    "plt.legend([\"No Cancer Diagnosis\", \"Cancer Diagnosis\"])\n",
    "plt.ylabel('Frequency')\n",
    "plt.show()"
   ]
  },
  {
   "cell_type": "code",
   "execution_count": 12,
   "metadata": {},
   "outputs": [
    {
     "data": {
      "text/plain": [
       "<matplotlib.legend.Legend at 0x26cde9fbac8>"
      ]
     },
     "execution_count": 12,
     "metadata": {},
     "output_type": "execute_result"
    },
    {
     "data": {
      "image/png": "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\n",
      "text/plain": [
       "<Figure size 864x576 with 2 Axes>"
      ]
     },
     "metadata": {
      "needs_background": "light"
     },
     "output_type": "display_data"
    }
   ],
   "source": [
    "#How does age effect the parameters of heart disease?\n",
    "\n",
    "#Hormone Therapy\n",
    "plt.figure(figsize=(12,8))\n",
    "plt.subplot(2,2,1)\n",
    "plt.scatter(x=dataset.age_c[dataset.CaTypeO==1],y=dataset.hrt_c[dataset.CaTypeO==1],c='black')\n",
    "plt.scatter(x=dataset.age_c[dataset.CaTypeO==0],y=dataset.hrt_c[dataset.CaTypeO==0],c='gold')\n",
    "plt.xlabel('Age')\n",
    "plt.ylabel('Hormone Therapy')\n",
    "plt.legend(['Cancer','No Cancer'])\n",
    "\n",
    "#Family History\n",
    "plt.subplot(2,2,2)\n",
    "plt.scatter(x=dataset.age_c[dataset.CaTypeO==1],y=dataset.famhx_c[dataset.CaTypeO==1],c='black')\n",
    "plt.scatter(x=dataset.age_c[dataset.CaTypeO==0],y=dataset.famhx_c[dataset.CaTypeO==0],c='gold')\n",
    "plt.xlabel('Age')\n",
    "plt.ylabel('Family History')\n",
    "plt.legend(['Cancer','No Cancer'])\n"
   ]
  },
  {
   "cell_type": "code",
   "execution_count": 13,
   "metadata": {},
   "outputs": [],
   "source": [
    "target = dataset[\"CaTypeO\"]\n",
    "target_names = [\"negative\", \"positive\"]"
=======
   "cell_type": "markdown",
   "metadata": {},
   "source": [
    "### Splitting the dataset"
>>>>>>> Stashed changes
   ]
  },
  {
   "cell_type": "code",
   "execution_count": 14,
   "metadata": {},
   "outputs": [
    {
     "data": {
      "text/html": [
       "<div>\n",
       "<style scoped>\n",
       "    .dataframe tbody tr th:only-of-type {\n",
       "        vertical-align: middle;\n",
       "    }\n",
       "\n",
       "    .dataframe tbody tr th {\n",
       "        vertical-align: top;\n",
       "    }\n",
       "\n",
       "    .dataframe thead th {\n",
       "        text-align: right;\n",
       "    }\n",
       "</style>\n",
       "<table border=\"1\" class=\"dataframe\">\n",
       "  <thead>\n",
       "    <tr style=\"text-align: right;\">\n",
       "      <th></th>\n",
       "      <th>age_c</th>\n",
       "      <th>assess_c</th>\n",
       "      <th>cancer_c</th>\n",
       "      <th>compfilm_c</th>\n",
       "      <th>density_c</th>\n",
       "      <th>famhx_c</th>\n",
       "      <th>hrt_c</th>\n",
       "      <th>prvmam_c</th>\n",
       "      <th>biophx_c</th>\n",
       "      <th>mammtype</th>\n",
       "      <th>bmi_c</th>\n",
       "    </tr>\n",
       "  </thead>\n",
       "  <tbody>\n",
       "    <tr>\n",
       "      <th>0</th>\n",
       "      <td>62</td>\n",
       "      <td>1</td>\n",
       "      <td>0</td>\n",
       "      <td>1</td>\n",
       "      <td>1</td>\n",
       "      <td>0</td>\n",
       "      <td>0</td>\n",
       "      <td>1</td>\n",
       "      <td>0</td>\n",
       "      <td>0</td>\n",
       "      <td>564</td>\n",
       "    </tr>\n",
       "    <tr>\n",
       "      <th>1</th>\n",
       "      <td>65</td>\n",
       "      <td>1</td>\n",
       "      <td>0</td>\n",
       "      <td>1</td>\n",
       "      <td>3</td>\n",
       "      <td>0</td>\n",
       "      <td>0</td>\n",
       "      <td>1</td>\n",
       "      <td>0</td>\n",
       "      <td>0</td>\n",
       "      <td>0</td>\n",
       "    </tr>\n",
       "    <tr>\n",
       "      <th>2</th>\n",
       "      <td>69</td>\n",
       "      <td>0</td>\n",
       "      <td>0</td>\n",
       "      <td>1</td>\n",
       "      <td>1</td>\n",
       "      <td>0</td>\n",
       "      <td>0</td>\n",
       "      <td>1</td>\n",
       "      <td>0</td>\n",
       "      <td>0</td>\n",
       "      <td>967</td>\n",
       "    </tr>\n",
       "    <tr>\n",
       "      <th>3</th>\n",
       "      <td>64</td>\n",
       "      <td>2</td>\n",
       "      <td>0</td>\n",
       "      <td>1</td>\n",
       "      <td>1</td>\n",
       "      <td>0</td>\n",
       "      <td>0</td>\n",
       "      <td>1</td>\n",
       "      <td>0</td>\n",
       "      <td>0</td>\n",
       "      <td>0</td>\n",
       "    </tr>\n",
       "    <tr>\n",
       "      <th>4</th>\n",
       "      <td>63</td>\n",
       "      <td>3</td>\n",
       "      <td>0</td>\n",
       "      <td>1</td>\n",
       "      <td>1</td>\n",
       "      <td>0</td>\n",
       "      <td>0</td>\n",
       "      <td>1</td>\n",
       "      <td>1</td>\n",
       "      <td>0</td>\n",
       "      <td>1291</td>\n",
       "    </tr>\n",
       "  </tbody>\n",
       "</table>\n",
       "</div>"
      ],
      "text/plain": [
       "   age_c  assess_c  cancer_c  compfilm_c  density_c  famhx_c  hrt_c  prvmam_c  \\\n",
       "0     62         1         0           1          1        0      0         1   \n",
       "1     65         1         0           1          3        0      0         1   \n",
       "2     69         0         0           1          1        0      0         1   \n",
       "3     64         2         0           1          1        0      0         1   \n",
       "4     63         3         0           1          1        0      0         1   \n",
       "\n",
       "   biophx_c  mammtype  bmi_c  \n",
       "0         0         0    564  \n",
       "1         0         0      0  \n",
       "2         0         0    967  \n",
       "3         0         0      0  \n",
       "4         1         0   1291  "
      ]
     },
     "execution_count": 14,
     "metadata": {},
     "output_type": "execute_result"
    }
   ],
   "source": [
<<<<<<< Updated upstream
    "data = dataset.drop(\"CaTypeO\", axis=1)\n",
    "feature_names = data.columns\n",
=======
    "target = dataset[\"CaTypeO\"]\n",
    "#target_names = [\"negative\", \"positive\"]\n",
    "data = dataset.drop(\"CaTypeO\", axis=1)\n",
    "#feature_names = data.columns\n",
>>>>>>> Stashed changes
    "data.head()"
   ]
  },
  {
   "cell_type": "code",
   "execution_count": 15,
   "metadata": {},
   "outputs": [],
   "source": [
    "# separate train features and label\n",
    "y = target\n",
    "X = data\n",
<<<<<<< Updated upstream
    "# split dataset into train and test data\n",
    "X_train, X_test, y_train, y_test = train_test_split(X, y, random_state=42)\n"
=======
    "\n",
    "# split dataset into train and test data\n",
    "X_train, X_test, y_train, y_test = train_test_split(X, y, test_size=0.33, random_state=42)"
   ]
  },
  {
   "cell_type": "markdown",
   "metadata": {},
   "source": [
    "![Split Dataset](images/split.png)"
   ]
  },
  {
   "cell_type": "markdown",
   "metadata": {},
   "source": [
    "### Feature Scaling"
>>>>>>> Stashed changes
   ]
  },
  {
   "cell_type": "code",
   "execution_count": 16,
   "metadata": {},
<<<<<<< Updated upstream
   "outputs": [
    {
     "name": "stdout",
     "output_type": "stream",
     "text": [
      "Testing Accuracy is:  99.43854509947516 %\n"
     ]
    }
   ],
   "source": [
    "# train and test knn model\n",
    "knn = KNeighborsClassifier()\n",
    "knn.fit(X_train, y_train)\n",
    "knn.predict(X_test)\n",
    "print(\"Testing Accuracy is: \", knn.score(X_test, y_test)*100, \"%\")"
=======
   "outputs": [],
   "source": [
    "sc = StandardScaler()\n",
    "X_train = sc.fit_transform(X_train)\n",
    "X_test = sc.transform(X_test)"
   ]
  },
  {
   "cell_type": "markdown",
   "metadata": {},
   "source": [
    "### Model Selection"
   ]
  },
  {
   "cell_type": "markdown",
   "metadata": {},
   "source": [
    "We used different types of classification algorithms:\n",
    "1. Logistic Regression\n",
    "2. Nearest Neighbor\n",
    "3. Support Vector Machines\n",
    "4. Kernel SVM\n",
    "5. Naïve Bayes\n",
    "6. Decision Tree Algorithm\n",
    "7. Random Forest Classification"
>>>>>>> Stashed changes
   ]
  },
  {
   "cell_type": "code",
   "execution_count": 17,
   "metadata": {},
   "outputs": [
    {
<<<<<<< Updated upstream
     "name": "stdout",
     "output_type": "stream",
     "text": [
      "Testing Accuracy is:  99.43854509947516 %\n"
     ]
    }
   ],
   "source": [
    "# scaling values into 0-1 range\n",
    "#scaler = MinMaxScaler(feature_range=(0, 1))\n",
    "#features = [\n",
    "#    'assess_c', 'cancer_c', 'compfilm_c', 'density_c', 'famhx_c', 'hrt_c', 'prvmam_c', 'prvmam_c', 'bmi_c', 'biophx_c', 'mammtype']\n",
    "#dataset[features] = scaler.fit_transform(dataset[features])\n",
    "\n",
    "from sklearn.preprocessing import StandardScaler\n",
    "X_train=StandardScaler().fit_transform(X_train)\n",
    "X_test=StandardScaler().fit_transform(X_test)\n",
    "\n",
    "#TEST ACCURACY AGAIN\n",
    "# separate train features and label\n",
    "y = target\n",
    "X = data\n",
    "# split dataset into train and test data\n",
    "X_train, X_test, y_train, y_test = train_test_split(X, y, random_state=42)\n",
    "\n",
    "\n",
    "# train and test knn model\n",
    "knn = KNeighborsClassifier()\n",
    "knn.fit(X_train, y_train)\n",
    "knn.predict(X_test)\n",
    "print(\"Testing Accuracy is: \", knn.score(X_test, y_test)*100, \"%\")"
=======
     "data": {
      "text/plain": [
       "LogisticRegression(C=1.0, class_weight=None, dual=False, fit_intercept=True,\n",
       "                   intercept_scaling=1, l1_ratio=None, max_iter=1000,\n",
       "                   multi_class='auto', n_jobs=None, penalty='l2',\n",
       "                   random_state=None, solver='lbfgs', tol=0.0001, verbose=0,\n",
       "                   warm_start=False)"
      ]
     },
     "execution_count": 17,
     "metadata": {},
     "output_type": "execute_result"
    }
   ],
   "source": [
    "#Using Logistic Regression Algorithm to the Training Set\n",
    "# Create instance (i.e. object) of LogisticRegression\n",
    "classifier = LogisticRegression(max_iter=1000)\n",
    "# Fit the model using the training data\n",
    "classifier.fit(X_train, y_train)"
>>>>>>> Stashed changes
   ]
  },
  {
   "cell_type": "code",
   "execution_count": 18,
   "metadata": {},
   "outputs": [
    {
<<<<<<< Updated upstream
     "data": {
      "text/plain": [
       "0    32577\n",
       "1      195\n",
       "Name: CaTypeO, dtype: int64"
      ]
     },
     "execution_count": 18,
     "metadata": {},
     "output_type": "execute_result"
    }
   ],
   "source": [
    "dataset.CaTypeO.value_counts()"
=======
     "name": "stdout",
     "output_type": "stream",
     "text": [
      "[[10758     0]\n",
      " [    0    57]]\n",
      "Accuracy score of train Logistic Regression\n",
      "100.0\n",
      "Accuracy score of test Logistic Regression\n",
      "100.0\n"
     ]
    }
   ],
   "source": [
    "y_pred = classifier.predict(X_test)\n",
    "cm = confusion_matrix(y_test, y_pred)\n",
    "trained_model=classifier.fit(X_train,y_train)\n",
    "trained_model.fit(X_train,y_train )\n",
    "print(cm)\n",
    "print(\"Accuracy score of train Logistic Regression\")\n",
    "print(accuracy_score(y_train, trained_model.predict(X_train))*100)\n",
    "    \n",
    "print(\"Accuracy score of test Logistic Regression\")\n",
    "print(accuracy_score(y_test, y_pred)*100)"
>>>>>>> Stashed changes
   ]
  },
  {
   "cell_type": "code",
   "execution_count": 19,
   "metadata": {},
   "outputs": [
    {
     "data": {
      "text/plain": [
       "KNeighborsClassifier(algorithm='auto', leaf_size=30, metric='minkowski',\n",
       "                     metric_params=None, n_jobs=None, n_neighbors=5, p=2,\n",
       "                     weights='uniform')"
      ]
     },
     "execution_count": 19,
     "metadata": {},
     "output_type": "execute_result"
    }
   ],
   "source": [
    "#Using KNeighborsClassifier Method of neighbors class to use Nearest Neighbor algorithm\n",
    "from sklearn.neighbors import KNeighborsClassifier\n",
    "classifier = KNeighborsClassifier(n_neighbors = 5, metric = 'minkowski', p = 2)\n",
    "classifier.fit(X_train, y_train)"
   ]
  },
  {
   "cell_type": "code",
   "execution_count": 20,
   "metadata": {},
   "outputs": [
    {
     "name": "stdout",
     "output_type": "stream",
     "text": [
<<<<<<< Updated upstream
      "Test Acc: 0.994\n"
=======
      "[[10758     0]\n",
      " [    0    57]]\n",
      "Accuracy score of train Nearest Neighbor\n",
      "100.0\n",
      "Accuracy score of test Nearest Neighbor\n",
      "100.0\n"
>>>>>>> Stashed changes
     ]
    }
   ],
   "source": [
<<<<<<< Updated upstream
    " # Model Accuracy\n",
    "print('Test Acc: %.3f' % classifier.score(X_test, y_test))"
=======
    "y_pred = classifier.predict(X_test)\n",
    "cm = confusion_matrix(y_test, y_pred)\n",
    "trained_model=classifier.fit(X_train,y_train)\n",
    "trained_model.fit(X_train,y_train )\n",
    "print(cm)\n",
    "print(\"Accuracy score of train Nearest Neighbor\")\n",
    "print(accuracy_score(y_train, trained_model.predict(X_train))*100)\n",
    "    \n",
    "print(\"Accuracy score of test Nearest Neighbor\")\n",
    "print(accuracy_score(y_test, y_pred)*100)"
>>>>>>> Stashed changes
   ]
  },
  {
   "cell_type": "code",
   "execution_count": 21,
   "metadata": {},
   "outputs": [
    {
     "data": {
      "text/plain": [
       "SVC(C=1.0, break_ties=False, cache_size=200, class_weight=None, coef0=0.0,\n",
       "    decision_function_shape='ovr', degree=3, gamma='scale', kernel='linear',\n",
<<<<<<< Updated upstream
       "    max_iter=-1, probability=False, random_state=None, shrinking=True,\n",
       "    tol=0.001, verbose=False)"
=======
       "    max_iter=-1, probability=False, random_state=0, shrinking=True, tol=0.001,\n",
       "    verbose=False)"
>>>>>>> Stashed changes
      ]
     },
     "execution_count": 21,
     "metadata": {},
     "output_type": "execute_result"
    }
   ],
   "source": [
    "#Using SVC method of svm class to use Support Vector Machine Algorithm\n",
    "from sklearn.svm import SVC\n",
<<<<<<< Updated upstream
    "classifier = SVC(kernel = 'linear')\n",
=======
    "classifier = SVC(kernel = 'linear',random_state = 0)\n",
>>>>>>> Stashed changes
    "classifier.fit(X_train, y_train)"
   ]
  },
  {
   "cell_type": "code",
   "execution_count": 22,
   "metadata": {},
   "outputs": [
    {
     "name": "stdout",
     "output_type": "stream",
     "text": [
<<<<<<< Updated upstream
      "Test Acc: 1.000\n"
=======
      "[[10758     0]\n",
      " [    0    57]]\n",
      "Accuracy score of train Support Vector Machines\n",
      "100.0\n",
      "Accuracy score of test Support Vector Machines\n",
      "100.0\n"
>>>>>>> Stashed changes
     ]
    }
   ],
   "source": [
<<<<<<< Updated upstream
    " # Model Accuracy\n",
    "print('Test Acc: %.3f' % classifier.score(X_test, y_test))"
=======
    "y_pred = classifier.predict(X_test)\n",
    "cm = confusion_matrix(y_test, y_pred)\n",
    "trained_model=classifier.fit(X_train,y_train)\n",
    "trained_model.fit(X_train,y_train )\n",
    "print(cm)\n",
    "print(\"Accuracy score of train Support Vector Machines\")\n",
    "print(accuracy_score(y_train, trained_model.predict(X_train))*100)\n",
    "    \n",
    "print(\"Accuracy score of test Support Vector Machines\")\n",
    "print(accuracy_score(y_test, y_pred)*100)"
>>>>>>> Stashed changes
   ]
  },
  {
   "cell_type": "code",
   "execution_count": 23,
   "metadata": {},
   "outputs": [
    {
     "data": {
      "text/plain": [
       "SVC(C=1.0, break_ties=False, cache_size=200, class_weight=None, coef0=0.0,\n",
       "    decision_function_shape='ovr', degree=3, gamma='scale', kernel='rbf',\n",
       "    max_iter=-1, probability=False, random_state=0, shrinking=True, tol=0.001,\n",
       "    verbose=False)"
      ]
     },
     "execution_count": 23,
     "metadata": {},
     "output_type": "execute_result"
    }
   ],
   "source": [
    "#Using SVC method of svm class to use Kernel SVM Algorithm\n",
    "from sklearn.svm import SVC\n",
    "classifier = SVC(kernel = 'rbf', random_state = 0)\n",
    "classifier.fit(X_train, y_train)"
   ]
  },
  {
   "cell_type": "code",
   "execution_count": 24,
   "metadata": {},
   "outputs": [
    {
     "name": "stdout",
     "output_type": "stream",
     "text": [
<<<<<<< Updated upstream
      "Test Acc: 0.994\n"
=======
      "[[10758     0]\n",
      " [    0    57]]\n",
      "Accuracy score of train Kernel SVM\n",
      "100.0\n",
      "Accuracy score of test Kernel SVM\n",
      "100.0\n"
>>>>>>> Stashed changes
     ]
    }
   ],
   "source": [
<<<<<<< Updated upstream
    " # Model Accuracy\n",
    "print('Test Acc: %.3f' % classifier.score(X_test, y_test))"
=======
    "y_pred = classifier.predict(X_test)\n",
    "cm = confusion_matrix(y_test, y_pred)\n",
    "trained_model=classifier.fit(X_train,y_train)\n",
    "trained_model.fit(X_train,y_train )\n",
    "print(cm)\n",
    "print(\"Accuracy score of train Kernel SVM\")\n",
    "print(accuracy_score(y_train, trained_model.predict(X_train))*100)\n",
    "    \n",
    "print(\"Accuracy score of test Kernel SVM\")\n",
    "print(accuracy_score(y_test, y_pred)*100)"
>>>>>>> Stashed changes
   ]
  },
  {
   "cell_type": "code",
   "execution_count": 25,
   "metadata": {},
   "outputs": [
    {
     "data": {
      "text/plain": [
       "GaussianNB(priors=None, var_smoothing=1e-09)"
      ]
     },
     "execution_count": 25,
     "metadata": {},
     "output_type": "execute_result"
    }
   ],
   "source": [
    "#Using GaussianNB method of naïve_bayes class to use Naïve Bayes Algorithm\n",
    "from sklearn.naive_bayes import GaussianNB\n",
    "classifier = GaussianNB()\n",
    "classifier.fit(X_train, y_train)"
   ]
  },
  {
   "cell_type": "code",
   "execution_count": 26,
   "metadata": {},
   "outputs": [
    {
     "name": "stdout",
     "output_type": "stream",
     "text": [
<<<<<<< Updated upstream
      "Test Acc: 1.000\n"
=======
      "[[10758     0]\n",
      " [    0    57]]\n",
      "Accuracy score of train Naive Bayes\n",
      "100.0\n",
      "Accuracy score of test Naive Bayes\n",
      "100.0\n"
>>>>>>> Stashed changes
     ]
    }
   ],
   "source": [
<<<<<<< Updated upstream
    " # Model Accuracy\n",
    "print('Test Acc: %.3f' % classifier.score(X_test, y_test))"
=======
    "y_pred = classifier.predict(X_test)\n",
    "cm = confusion_matrix(y_test, y_pred)\n",
    "trained_model=classifier.fit(X_train,y_train)\n",
    "trained_model.fit(X_train,y_train )\n",
    "print(cm)\n",
    "print(\"Accuracy score of train Naive Bayes\")\n",
    "print(accuracy_score(y_train, trained_model.predict(X_train))*100)\n",
    "    \n",
    "print(\"Accuracy score of test Naive Bayes\")\n",
    "print(accuracy_score(y_test, y_pred)*100)"
>>>>>>> Stashed changes
   ]
  },
  {
   "cell_type": "code",
   "execution_count": 27,
   "metadata": {},
   "outputs": [
    {
     "data": {
      "text/plain": [
       "DecisionTreeClassifier(ccp_alpha=0.0, class_weight=None, criterion='entropy',\n",
       "                       max_depth=None, max_features=None, max_leaf_nodes=None,\n",
       "                       min_impurity_decrease=0.0, min_impurity_split=None,\n",
       "                       min_samples_leaf=1, min_samples_split=2,\n",
       "                       min_weight_fraction_leaf=0.0, presort='deprecated',\n",
       "                       random_state=0, splitter='best')"
      ]
     },
     "execution_count": 27,
     "metadata": {},
     "output_type": "execute_result"
    }
   ],
   "source": [
    "#Using DecisionTreeClassifier of tree class to use Decision Tree Algorithm\n",
    "\n",
    "from sklearn.tree import DecisionTreeClassifier\n",
    "classifier = DecisionTreeClassifier(criterion = 'entropy', random_state = 0)\n",
    "classifier.fit(X_train, y_train)"
   ]
  },
  {
   "cell_type": "code",
   "execution_count": 28,
   "metadata": {},
   "outputs": [
    {
     "name": "stdout",
     "output_type": "stream",
     "text": [
<<<<<<< Updated upstream
      "Test Acc: 1.000\n"
=======
      "[[10758     0]\n",
      " [    0    57]]\n",
      "Accuracy score of train Decision Tree Algorithm\n",
      "100.0\n",
      "Accuracy score of test Decision Tree Algorithm\n",
      "100.0\n"
>>>>>>> Stashed changes
     ]
    }
   ],
   "source": [
<<<<<<< Updated upstream
    " # Model Accuracy\n",
    "print('Test Acc: %.3f' % classifier.score(X_test, y_test))"
=======
    "y_pred = classifier.predict(X_test)\n",
    "cm = confusion_matrix(y_test, y_pred)\n",
    "trained_model=classifier.fit(X_train,y_train)\n",
    "trained_model.fit(X_train,y_train )\n",
    "print(cm)\n",
    "print(\"Accuracy score of train Decision Tree Algorithm\")\n",
    "print(accuracy_score(y_train, trained_model.predict(X_train))*100)\n",
    "    \n",
    "print(\"Accuracy score of test Decision Tree Algorithm\")\n",
    "print(accuracy_score(y_test, y_pred)*100)"
>>>>>>> Stashed changes
   ]
  },
  {
   "cell_type": "code",
   "execution_count": 29,
   "metadata": {},
   "outputs": [
    {
     "data": {
      "text/plain": [
       "RandomForestClassifier(bootstrap=True, ccp_alpha=0.0, class_weight=None,\n",
       "                       criterion='entropy', max_depth=None, max_features='auto',\n",
       "                       max_leaf_nodes=None, max_samples=None,\n",
       "                       min_impurity_decrease=0.0, min_impurity_split=None,\n",
       "                       min_samples_leaf=1, min_samples_split=2,\n",
       "                       min_weight_fraction_leaf=0.0, n_estimators=10,\n",
       "                       n_jobs=None, oob_score=False, random_state=0, verbose=0,\n",
       "                       warm_start=False)"
      ]
     },
     "execution_count": 29,
     "metadata": {},
     "output_type": "execute_result"
    }
   ],
   "source": [
    "#Using RandomForestClassifier method of ensemble class to use Random Forest Classification algorithm\n",
    "\n",
    "from sklearn.ensemble import RandomForestClassifier\n",
    "classifier = RandomForestClassifier(n_estimators = 10, criterion = 'entropy', random_state = 0)\n",
    "classifier.fit(X_train, y_train)"
   ]
  },
  {
   "cell_type": "code",
   "execution_count": 30,
   "metadata": {},
   "outputs": [
    {
     "name": "stdout",
     "output_type": "stream",
     "text": [
<<<<<<< Updated upstream
      "Test Acc: 1.000\n"
=======
      "[[10758     0]\n",
      " [    0    57]]\n",
      "Accuracy score of train Random Forest Classification\n",
      "100.0\n",
      "Accuracy score of test Random Forest Classification\n",
      "100.0\n"
>>>>>>> Stashed changes
     ]
    }
   ],
   "source": [
<<<<<<< Updated upstream
    " # Model Accuracy\n",
    "print('Test Acc: %.3f' % classifier.score(X_test, y_test))"
   ]
  },
  {
   "cell_type": "code",
   "execution_count": 31,
   "metadata": {},
   "outputs": [],
   "source": [
    "y_pred = classifier.predict(X_test)"
=======
    "y_pred = classifier.predict(X_test)\n",
    "cm = confusion_matrix(y_test, y_pred)\n",
    "trained_model=classifier.fit(X_train,y_train)\n",
    "trained_model.fit(X_train,y_train )\n",
    "print(cm)\n",
    "print(\"Accuracy score of train Random Forest Classification\")\n",
    "print(accuracy_score(y_train, trained_model.predict(X_train))*100)\n",
    "    \n",
    "print(\"Accuracy score of test Random Forest Classification\")\n",
    "print(accuracy_score(y_test, y_pred)*100)"
   ]
  },
  {
   "cell_type": "markdown",
   "metadata": {},
   "source": [
    "### Predictions"
>>>>>>> Stashed changes
   ]
  },
  {
   "cell_type": "code",
<<<<<<< Updated upstream
   "execution_count": 32,
   "metadata": {},
   "outputs": [],
   "source": [
    "from sklearn.metrics import confusion_matrix\n",
    "cm = confusion_matrix(y_test, y_pred)"
=======
   "execution_count": 31,
   "metadata": {},
   "outputs": [],
   "source": [
    "y_pred = classifier.predict(X_test)"
>>>>>>> Stashed changes
   ]
  },
  {
   "cell_type": "code",
<<<<<<< Updated upstream
   "execution_count": 33,
   "metadata": {},
   "outputs": [
    {
     "data": {
      "text/plain": [
       "array([[8147,    0],\n",
       "       [   0,   46]], dtype=int64)"
      ]
     },
     "execution_count": 33,
     "metadata": {},
     "output_type": "execute_result"
    }
   ],
   "source": [
    "cm"
=======
   "execution_count": null,
   "metadata": {},
   "outputs": [
    {
     "name": "stdout",
     "output_type": "stream",
     "text": [
      "Accuracy: 1.000 (+/- 0.00)\n",
      "Accuracy: 0.994 (+/- 0.00)\n",
      "Accuracy: 1.000 (+/- 0.00)\n",
      "Accuracy: 0.994 (+/- 0.00)\n",
      "Accuracy: 1.000 (+/- 0.00)\n",
      "Accuracy: 1.000 (+/- 0.00)\n"
     ]
    }
   ],
   "source": [
    "models=[LogisticRegression(max_iter=1000),KNeighborsClassifier(),SVC(kernel = 'linear'),SVC(kernel = 'rbf', random_state = 0),GaussianNB(),DecisionTreeClassifier(),RandomForestClassifier()]\n",
    "for model in models:\n",
    "    score = cross_val_score(model,X,y)\n",
    "    print(\"Accuracy: %0.3f (+/- %0.2f)\" % (score.mean(), score.std() * 2))"
   ]
  },
  {
   "cell_type": "markdown",
   "metadata": {},
   "source": [
    "After applying the different classification models, we have got below accuracies with different models:\n",
    "1. Logistic Regression — 100.0%\n",
    "2. Nearest Neighbor — 99.4%\n",
    "3. Support Vector Machines — 100.0%\n",
    "4. Kernel SVM — 99.4%\n",
    "5. Naive Bayes — 100.0%\n",
    "6. Decision Tree Algorithm — 100.0%\n",
    "7. Random Forest Classification — 100.0%"
   ]
  },
  {
   "cell_type": "markdown",
   "metadata": {},
   "source": [
    "[Tableau visulazation](https://public.tableau.com/profile/daniel.kennedy1597#!/vizhome/CitiBike_16023393592680/CitiBikeAnalytics?publish=yes)"
   ]
  },
  {
   "cell_type": "markdown",
   "metadata": {},
   "source": [
    "![BCSC](images/BCSC_Logo-01.png)\n",
    "*Data collection and sharing was supported by the National Cancer Institute-funded Breast Cancer Surveillance Consortium (HHSN261201100031C). You can learn more about the BCSC at: http://www.bcsc-research.org/.*"
   ]
  },
  {
   "cell_type": "code",
   "execution_count": null,
   "metadata": {},
   "outputs": [],
   "source": []
  },
  {
   "cell_type": "code",
   "execution_count": null,
   "metadata": {},
   "outputs": [],
   "source": [
    "# Split the data into a training set and a test set\n",
    "X_train, X_test, y_train, y_test = train_test_split(X, y, random_state=0)\n",
    "\n",
    "# Run classifier, using a model that is too regularized (C too low) to see\n",
    "# the impact on the results\n",
    "classifier = svm.SVC(kernel='linear', C=0.01).fit(X_train, y_train)\n",
    "\n",
    "np.set_printoptions(precision=1)\n",
    "\n",
    "# Plot non-normalized confusion matrix\n",
    "titles_options = [(\"Confusion matrix, without normalization\", None),\n",
    "                  (\"Normalized confusion matrix\", 'true')]\n",
    "for title, normalize in titles_options:\n",
    "    disp = plot_confusion_matrix(classifier, X_test, y_test,\n",
    "                                cmap=plt.cm.Blues,\n",
    "                                 normalize=normalize)\n",
    "    disp.ax_.set_title(title)\n",
    "\n",
    "    print(title)\n",
    "    print(disp.confusion_matrix)\n",
    "\n",
    "plt.show()"
   ]
  },
  {
   "cell_type": "code",
   "execution_count": null,
   "metadata": {},
   "outputs": [],
   "source": [
    "from sklearn.svm import SVC \n",
    "model = SVC()\n",
    "from sklearn.model_selection import GridSearchCV\n",
    "param_grid = {'C': [1, 5, 10],\n",
    "              'gamma': [0.0001, 0.001, 0.01]}\n",
    "grid = GridSearchCV(model, param_grid, verbose=3)\n",
    "grid.fit(X_train, y_train)"
   ]
  },
  {
   "cell_type": "code",
   "execution_count": null,
   "metadata": {},
   "outputs": [],
   "source": [
    "print(grid.best_params_)\n",
    "print(grid.best_score_)\n",
    "predictions = grid.predict(X_test)\n",
    "from sklearn.metrics import classification_report\n",
    "print(classification_report(y_test, predictions,\n",
    "                            target_names = [\"negative\", \"positive\"]))"
>>>>>>> Stashed changes
   ]
  }
 ],
 "metadata": {
  "kernelspec": {
   "display_name": "Python 3",
   "language": "python",
   "name": "python3"
  },
  "language_info": {
   "codemirror_mode": {
    "name": "ipython",
    "version": 3
   },
   "file_extension": ".py",
   "mimetype": "text/x-python",
   "name": "python",
   "nbconvert_exporter": "python",
   "pygments_lexer": "ipython3",
   "version": "3.7.6"
  }
 },
 "nbformat": 4,
 "nbformat_minor": 4
}
