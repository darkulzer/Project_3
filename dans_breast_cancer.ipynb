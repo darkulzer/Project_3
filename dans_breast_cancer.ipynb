{
 "cells": [
  {
   "cell_type": "code",
   "execution_count": 1,
   "metadata": {},
   "outputs": [],
   "source": [
    "import numpy as np\n",
    "import pandas as pd\n",
    "import os\n",
    "import matplotlib.pyplot as plt\n",
    "import seaborn as sns\n",
    "\n",
    "from sklearn.preprocessing import LabelEncoder\n",
    "from sklearn.preprocessing import MinMaxScaler\n",
    "from sklearn.model_selection import train_test_split\n",
    "from sklearn.neighbors import KNeighborsClassifier\n",
    "from sklearn.feature_selection import SelectKBest, chi2\n",
    "from sklearn.ensemble import RandomForestClassifier\n",
    "from sklearn.linear_model import LogisticRegression\n"
   ]
  },
  {
   "cell_type": "code",
   "execution_count": 2,
   "metadata": {},
   "outputs": [
    {
     "data": {
      "text/html": [
       "<div>\n",
       "<style scoped>\n",
       "    .dataframe tbody tr th:only-of-type {\n",
       "        vertical-align: middle;\n",
       "    }\n",
       "\n",
       "    .dataframe tbody tr th {\n",
       "        vertical-align: top;\n",
       "    }\n",
       "\n",
       "    .dataframe thead th {\n",
       "        text-align: right;\n",
       "    }\n",
       "</style>\n",
       "<table border=\"1\" class=\"dataframe\">\n",
       "  <thead>\n",
       "    <tr style=\"text-align: right;\">\n",
       "      <th></th>\n",
       "      <th>age_c</th>\n",
       "      <th>assess_c</th>\n",
       "      <th>cancer_c</th>\n",
       "      <th>compfilm_c</th>\n",
       "      <th>density_c</th>\n",
       "      <th>famhx_c</th>\n",
       "      <th>hrt_c</th>\n",
       "      <th>prvmam_c</th>\n",
       "      <th>biophx_c</th>\n",
       "      <th>mammtype</th>\n",
       "      <th>CaTypeO</th>\n",
       "      <th>bmi_c</th>\n",
       "      <th>ptid</th>\n",
       "    </tr>\n",
       "  </thead>\n",
       "  <tbody>\n",
       "    <tr>\n",
       "      <th>0</th>\n",
       "      <td>62</td>\n",
       "      <td>1</td>\n",
       "      <td>0</td>\n",
       "      <td>1</td>\n",
       "      <td>2</td>\n",
       "      <td>0</td>\n",
       "      <td>0</td>\n",
       "      <td>1</td>\n",
       "      <td>0</td>\n",
       "      <td>1</td>\n",
       "      <td>8</td>\n",
       "      <td>24.023544</td>\n",
       "      <td>1</td>\n",
       "    </tr>\n",
       "    <tr>\n",
       "      <th>1</th>\n",
       "      <td>65</td>\n",
       "      <td>1</td>\n",
       "      <td>0</td>\n",
       "      <td>1</td>\n",
       "      <td>4</td>\n",
       "      <td>0</td>\n",
       "      <td>0</td>\n",
       "      <td>1</td>\n",
       "      <td>0</td>\n",
       "      <td>1</td>\n",
       "      <td>8</td>\n",
       "      <td>-99.000000</td>\n",
       "      <td>2</td>\n",
       "    </tr>\n",
       "    <tr>\n",
       "      <th>2</th>\n",
       "      <td>69</td>\n",
       "      <td>0</td>\n",
       "      <td>0</td>\n",
       "      <td>1</td>\n",
       "      <td>2</td>\n",
       "      <td>0</td>\n",
       "      <td>0</td>\n",
       "      <td>1</td>\n",
       "      <td>0</td>\n",
       "      <td>1</td>\n",
       "      <td>8</td>\n",
       "      <td>29.052429</td>\n",
       "      <td>3</td>\n",
       "    </tr>\n",
       "    <tr>\n",
       "      <th>3</th>\n",
       "      <td>64</td>\n",
       "      <td>2</td>\n",
       "      <td>0</td>\n",
       "      <td>1</td>\n",
       "      <td>2</td>\n",
       "      <td>0</td>\n",
       "      <td>0</td>\n",
       "      <td>1</td>\n",
       "      <td>0</td>\n",
       "      <td>1</td>\n",
       "      <td>8</td>\n",
       "      <td>-99.000000</td>\n",
       "      <td>4</td>\n",
       "    </tr>\n",
       "    <tr>\n",
       "      <th>4</th>\n",
       "      <td>63</td>\n",
       "      <td>3</td>\n",
       "      <td>0</td>\n",
       "      <td>1</td>\n",
       "      <td>2</td>\n",
       "      <td>0</td>\n",
       "      <td>0</td>\n",
       "      <td>1</td>\n",
       "      <td>1</td>\n",
       "      <td>1</td>\n",
       "      <td>8</td>\n",
       "      <td>33.729523</td>\n",
       "      <td>5</td>\n",
       "    </tr>\n",
       "  </tbody>\n",
       "</table>\n",
       "</div>"
      ],
      "text/plain": [
       "   age_c  assess_c  cancer_c  compfilm_c  density_c  famhx_c  hrt_c  prvmam_c  \\\n",
       "0     62         1         0           1          2        0      0         1   \n",
       "1     65         1         0           1          4        0      0         1   \n",
       "2     69         0         0           1          2        0      0         1   \n",
       "3     64         2         0           1          2        0      0         1   \n",
       "4     63         3         0           1          2        0      0         1   \n",
       "\n",
       "   biophx_c  mammtype  CaTypeO      bmi_c  ptid  \n",
       "0         0         1        8  24.023544     1  \n",
       "1         0         1        8 -99.000000     2  \n",
       "2         0         1        8  29.052429     3  \n",
       "3         0         1        8 -99.000000     4  \n",
       "4         1         1        8  33.729523     5  "
      ]
     },
     "execution_count": 2,
     "metadata": {},
     "output_type": "execute_result"
    }
   ],
   "source": [
    "dataset = pd.read_csv('Resources/dataset.csv')\n",
    "dataset.head()"
   ]
  },
  {
   "cell_type": "code",
   "execution_count": 3,
   "metadata": {},
   "outputs": [
    {
     "name": "stdout",
     "output_type": "stream",
     "text": [
      "<class 'pandas.core.frame.DataFrame'>\n",
      "RangeIndex: 40000 entries, 0 to 39999\n",
      "Data columns (total 13 columns):\n",
      " #   Column      Non-Null Count  Dtype  \n",
      "---  ------      --------------  -----  \n",
      " 0   age_c       40000 non-null  int64  \n",
      " 1   assess_c    40000 non-null  int64  \n",
      " 2   cancer_c    40000 non-null  int64  \n",
      " 3   compfilm_c  40000 non-null  int64  \n",
      " 4   density_c   40000 non-null  int64  \n",
      " 5   famhx_c     40000 non-null  int64  \n",
      " 6   hrt_c       40000 non-null  int64  \n",
      " 7   prvmam_c    40000 non-null  int64  \n",
      " 8   biophx_c    40000 non-null  int64  \n",
      " 9   mammtype    40000 non-null  int64  \n",
      " 10  CaTypeO     40000 non-null  int64  \n",
      " 11  bmi_c       40000 non-null  float64\n",
      " 12  ptid        40000 non-null  int64  \n",
      "dtypes: float64(1), int64(12)\n",
      "memory usage: 4.0 MB\n"
     ]
    }
   ],
   "source": [
    "dataset.info()"
   ]
  },
  {
   "cell_type": "code",
   "execution_count": 4,
   "metadata": {},
   "outputs": [
    {
     "data": {
      "text/html": [
       "<div>\n",
       "<style scoped>\n",
       "    .dataframe tbody tr th:only-of-type {\n",
       "        vertical-align: middle;\n",
       "    }\n",
       "\n",
       "    .dataframe tbody tr th {\n",
       "        vertical-align: top;\n",
       "    }\n",
       "\n",
       "    .dataframe thead th {\n",
       "        text-align: right;\n",
       "    }\n",
       "</style>\n",
       "<table border=\"1\" class=\"dataframe\">\n",
       "  <thead>\n",
       "    <tr style=\"text-align: right;\">\n",
       "      <th></th>\n",
       "      <th>age_c</th>\n",
       "      <th>assess_c</th>\n",
       "      <th>cancer_c</th>\n",
       "      <th>compfilm_c</th>\n",
       "      <th>density_c</th>\n",
       "      <th>famhx_c</th>\n",
       "      <th>hrt_c</th>\n",
       "      <th>prvmam_c</th>\n",
       "      <th>biophx_c</th>\n",
       "      <th>mammtype</th>\n",
       "      <th>CaTypeO</th>\n",
       "      <th>bmi_c</th>\n",
       "      <th>ptid</th>\n",
       "    </tr>\n",
       "  </thead>\n",
       "  <tbody>\n",
       "    <tr>\n",
       "      <th>count</th>\n",
       "      <td>40000.000000</td>\n",
       "      <td>40000.000000</td>\n",
       "      <td>40000.000000</td>\n",
       "      <td>40000.000000</td>\n",
       "      <td>40000.000000</td>\n",
       "      <td>40000.000000</td>\n",
       "      <td>40000.000000</td>\n",
       "      <td>40000.000000</td>\n",
       "      <td>40000.000000</td>\n",
       "      <td>40000.000000</td>\n",
       "      <td>40000.000000</td>\n",
       "      <td>40000.000000</td>\n",
       "      <td>40000.000000</td>\n",
       "    </tr>\n",
       "    <tr>\n",
       "      <th>mean</th>\n",
       "      <td>69.555850</td>\n",
       "      <td>1.203450</td>\n",
       "      <td>0.006475</td>\n",
       "      <td>1.903450</td>\n",
       "      <td>2.229725</td>\n",
       "      <td>0.219875</td>\n",
       "      <td>0.504925</td>\n",
       "      <td>1.108200</td>\n",
       "      <td>0.444675</td>\n",
       "      <td>1.500000</td>\n",
       "      <td>7.959750</td>\n",
       "      <td>-46.164809</td>\n",
       "      <td>18376.250225</td>\n",
       "    </tr>\n",
       "    <tr>\n",
       "      <th>std</th>\n",
       "      <td>7.202974</td>\n",
       "      <td>0.575775</td>\n",
       "      <td>0.080207</td>\n",
       "      <td>2.589304</td>\n",
       "      <td>0.716355</td>\n",
       "      <td>0.762853</td>\n",
       "      <td>1.854633</td>\n",
       "      <td>0.959435</td>\n",
       "      <td>1.309191</td>\n",
       "      <td>0.500006</td>\n",
       "      <td>0.499686</td>\n",
       "      <td>62.225752</td>\n",
       "      <td>10601.991024</td>\n",
       "    </tr>\n",
       "    <tr>\n",
       "      <th>min</th>\n",
       "      <td>60.000000</td>\n",
       "      <td>0.000000</td>\n",
       "      <td>0.000000</td>\n",
       "      <td>0.000000</td>\n",
       "      <td>1.000000</td>\n",
       "      <td>0.000000</td>\n",
       "      <td>0.000000</td>\n",
       "      <td>0.000000</td>\n",
       "      <td>0.000000</td>\n",
       "      <td>1.000000</td>\n",
       "      <td>1.000000</td>\n",
       "      <td>-99.000000</td>\n",
       "      <td>1.000000</td>\n",
       "    </tr>\n",
       "    <tr>\n",
       "      <th>25%</th>\n",
       "      <td>63.000000</td>\n",
       "      <td>1.000000</td>\n",
       "      <td>0.000000</td>\n",
       "      <td>1.000000</td>\n",
       "      <td>2.000000</td>\n",
       "      <td>0.000000</td>\n",
       "      <td>0.000000</td>\n",
       "      <td>1.000000</td>\n",
       "      <td>0.000000</td>\n",
       "      <td>1.000000</td>\n",
       "      <td>8.000000</td>\n",
       "      <td>-99.000000</td>\n",
       "      <td>9202.750000</td>\n",
       "    </tr>\n",
       "    <tr>\n",
       "      <th>50%</th>\n",
       "      <td>68.000000</td>\n",
       "      <td>1.000000</td>\n",
       "      <td>0.000000</td>\n",
       "      <td>1.000000</td>\n",
       "      <td>2.000000</td>\n",
       "      <td>0.000000</td>\n",
       "      <td>0.000000</td>\n",
       "      <td>1.000000</td>\n",
       "      <td>0.000000</td>\n",
       "      <td>1.500000</td>\n",
       "      <td>8.000000</td>\n",
       "      <td>-99.000000</td>\n",
       "      <td>18392.500000</td>\n",
       "    </tr>\n",
       "    <tr>\n",
       "      <th>75%</th>\n",
       "      <td>75.000000</td>\n",
       "      <td>2.000000</td>\n",
       "      <td>0.000000</td>\n",
       "      <td>1.000000</td>\n",
       "      <td>3.000000</td>\n",
       "      <td>0.000000</td>\n",
       "      <td>0.000000</td>\n",
       "      <td>1.000000</td>\n",
       "      <td>1.000000</td>\n",
       "      <td>2.000000</td>\n",
       "      <td>8.000000</td>\n",
       "      <td>24.691544</td>\n",
       "      <td>27562.250000</td>\n",
       "    </tr>\n",
       "    <tr>\n",
       "      <th>max</th>\n",
       "      <td>89.000000</td>\n",
       "      <td>5.000000</td>\n",
       "      <td>1.000000</td>\n",
       "      <td>9.000000</td>\n",
       "      <td>4.000000</td>\n",
       "      <td>9.000000</td>\n",
       "      <td>9.000000</td>\n",
       "      <td>9.000000</td>\n",
       "      <td>9.000000</td>\n",
       "      <td>2.000000</td>\n",
       "      <td>8.000000</td>\n",
       "      <td>71.721314</td>\n",
       "      <td>36714.000000</td>\n",
       "    </tr>\n",
       "  </tbody>\n",
       "</table>\n",
       "</div>"
      ],
      "text/plain": [
       "              age_c      assess_c      cancer_c    compfilm_c     density_c  \\\n",
       "count  40000.000000  40000.000000  40000.000000  40000.000000  40000.000000   \n",
       "mean      69.555850      1.203450      0.006475      1.903450      2.229725   \n",
       "std        7.202974      0.575775      0.080207      2.589304      0.716355   \n",
       "min       60.000000      0.000000      0.000000      0.000000      1.000000   \n",
       "25%       63.000000      1.000000      0.000000      1.000000      2.000000   \n",
       "50%       68.000000      1.000000      0.000000      1.000000      2.000000   \n",
       "75%       75.000000      2.000000      0.000000      1.000000      3.000000   \n",
       "max       89.000000      5.000000      1.000000      9.000000      4.000000   \n",
       "\n",
       "            famhx_c         hrt_c      prvmam_c      biophx_c      mammtype  \\\n",
       "count  40000.000000  40000.000000  40000.000000  40000.000000  40000.000000   \n",
       "mean       0.219875      0.504925      1.108200      0.444675      1.500000   \n",
       "std        0.762853      1.854633      0.959435      1.309191      0.500006   \n",
       "min        0.000000      0.000000      0.000000      0.000000      1.000000   \n",
       "25%        0.000000      0.000000      1.000000      0.000000      1.000000   \n",
       "50%        0.000000      0.000000      1.000000      0.000000      1.500000   \n",
       "75%        0.000000      0.000000      1.000000      1.000000      2.000000   \n",
       "max        9.000000      9.000000      9.000000      9.000000      2.000000   \n",
       "\n",
       "            CaTypeO         bmi_c          ptid  \n",
       "count  40000.000000  40000.000000  40000.000000  \n",
       "mean       7.959750    -46.164809  18376.250225  \n",
       "std        0.499686     62.225752  10601.991024  \n",
       "min        1.000000    -99.000000      1.000000  \n",
       "25%        8.000000    -99.000000   9202.750000  \n",
       "50%        8.000000    -99.000000  18392.500000  \n",
       "75%        8.000000     24.691544  27562.250000  \n",
       "max        8.000000     71.721314  36714.000000  "
      ]
     },
     "execution_count": 4,
     "metadata": {},
     "output_type": "execute_result"
    }
   ],
   "source": [
    "dataset.describe()"
   ]
  },
  {
   "cell_type": "code",
   "execution_count": 5,
   "metadata": {},
   "outputs": [
    {
     "data": {
      "text/plain": [
       "age_c         0\n",
       "assess_c      0\n",
       "cancer_c      0\n",
       "compfilm_c    0\n",
       "density_c     0\n",
       "famhx_c       0\n",
       "hrt_c         0\n",
       "prvmam_c      0\n",
       "biophx_c      0\n",
       "mammtype      0\n",
       "CaTypeO       0\n",
       "bmi_c         0\n",
       "ptid          0\n",
       "dtype: int64"
      ]
     },
     "execution_count": 5,
     "metadata": {},
     "output_type": "execute_result"
    }
   ],
   "source": [
    "dataset.isna().sum()"
   ]
  },
  {
   "cell_type": "code",
   "execution_count": 6,
   "metadata": {},
   "outputs": [
    {
     "name": "stdout",
     "output_type": "stream",
     "text": [
      "<class 'pandas.core.frame.DataFrame'>\n",
      "Int64Index: 32772 entries, 0 to 39999\n",
      "Data columns (total 12 columns):\n",
      " #   Column      Non-Null Count  Dtype  \n",
      "---  ------      --------------  -----  \n",
      " 0   age_c       32772 non-null  int64  \n",
      " 1   assess_c    32772 non-null  int64  \n",
      " 2   cancer_c    32772 non-null  int64  \n",
      " 3   compfilm_c  32772 non-null  int64  \n",
      " 4   density_c   32772 non-null  int64  \n",
      " 5   famhx_c     32772 non-null  int64  \n",
      " 6   hrt_c       32772 non-null  int64  \n",
      " 7   prvmam_c    32772 non-null  int64  \n",
      " 8   biophx_c    32772 non-null  int64  \n",
      " 9   mammtype    32772 non-null  int64  \n",
      " 10  CaTypeO     32772 non-null  int64  \n",
      " 11  bmi_c       32772 non-null  float64\n",
      "dtypes: float64(1), int64(11)\n",
      "memory usage: 3.3 MB\n"
     ]
    }
   ],
   "source": [
    "# replace Nil values with 9\n",
    "#dataset['bmi_c'] = dataset['bmi_c'].replace([-99], 9)\n",
    "#Convert 8 placeholder to 0 \n",
    "dataset['CaTypeO'] = dataset['CaTypeO'].replace([8], 0)\n",
    "# Merge positive cancer diagnosis, versus positive cancer types\n",
    "dataset['CaTypeO'] = dataset['CaTypeO'].replace([2], 1)\n",
    "#drop null values identified by the numeric value '9'\n",
    "dataset = dataset[dataset.compfilm_c != 9]\n",
    "dataset = dataset[dataset.famhx_c != 9]\n",
    "dataset = dataset[dataset.hrt_c != 9]\n",
    "dataset = dataset[dataset.prvmam_c != 9]\n",
    "dataset = dataset[dataset.biophx_c != 9]\n",
    "dataset = dataset[dataset.bmi_c != 9]\n",
    "#delete ptid column\n",
    "del dataset['ptid']\n",
    "#Print info again \n",
    "dataset.info()"
   ]
  },
  {
   "cell_type": "code",
   "execution_count": 7,
   "metadata": {},
   "outputs": [
    {
     "data": {
      "text/plain": [
       "2    17474\n",
       "3     9652\n",
       "1     4551\n",
       "4     1095\n",
       "Name: density_c, dtype: int64"
      ]
     },
     "execution_count": 7,
     "metadata": {},
     "output_type": "execute_result"
    }
   ],
   "source": [
    "#Encode existing features\n",
    "dataset['density_c'].value_counts()\n",
    "\n",
    "#Not needed, breast tissue is already encoded in chronological order... "
   ]
  },
  {
   "cell_type": "code",
   "execution_count": 8,
   "metadata": {},
   "outputs": [
    {
     "data": {
      "text/plain": [
       "-99.000000    17613\n",
       " 24.799606      117\n",
       " 25.606049      116\n",
       " 27.463623      109\n",
       " 28.342407      100\n",
       "              ...  \n",
       " 23.012573        1\n",
       " 55.270538        1\n",
       " 29.239151        1\n",
       " 30.384354        1\n",
       " 39.135651        1\n",
       "Name: bmi_c, Length: 1848, dtype: int64"
      ]
     },
     "execution_count": 8,
     "metadata": {},
     "output_type": "execute_result"
    }
   ],
   "source": [
    "#Analyze BMI \n",
    "dataset['bmi_c'].value_counts()\n",
    "#Unable to further categorize based on wide array of data "
   ]
  },
  {
   "cell_type": "code",
   "execution_count": 9,
   "metadata": {},
   "outputs": [],
   "source": [
    "# label encode categorical columns\n",
    "\n",
    "lblEncoder_state = LabelEncoder()\n",
    "lblEncoder_state.fit(dataset['assess_c'])\n",
    "dataset['assess_c'] = lblEncoder_state.transform(dataset['assess_c'])\n",
    "\n",
    "lblEncoder_cons = LabelEncoder()\n",
    "lblEncoder_cons.fit(dataset['cancer_c'])\n",
    "dataset['cancer_c'] = lblEncoder_cons.transform(dataset['cancer_c'])\n",
    "\n",
    "lblEncoder_name = LabelEncoder()\n",
    "lblEncoder_name.fit(dataset['compfilm_c'])\n",
    "dataset['compfilm_c'] = lblEncoder_name.transform(dataset['compfilm_c'])\n",
    "\n",
    "lblEncoder_party = LabelEncoder()\n",
    "lblEncoder_party.fit(dataset['density_c'])\n",
    "dataset['density_c'] = lblEncoder_party.transform(dataset['density_c'])\n",
    "\n",
    "lblEncoder_symbol = LabelEncoder()\n",
    "lblEncoder_symbol.fit(dataset['famhx_c'])\n",
    "dataset['famhx_c'] = lblEncoder_symbol.transform(dataset['famhx_c'])\n",
    "\n",
    "lblEncoder_gender = LabelEncoder()\n",
    "lblEncoder_gender.fit(dataset['hrt_c'])\n",
    "dataset['hrt_c'] = lblEncoder_gender.transform(dataset['hrt_c'])\n",
    "\n",
    "lblEncoder_category = LabelEncoder()\n",
    "lblEncoder_category.fit(dataset['prvmam_c'])\n",
    "dataset['prvmam_c'] = lblEncoder_category.transform(dataset['prvmam_c'])\n",
    "\n",
    "lblEncoder_edu = LabelEncoder()\n",
    "lblEncoder_edu.fit(dataset['bmi_c'])\n",
    "dataset['bmi_c'] = lblEncoder_edu.transform(dataset['bmi_c'])\n",
    "\n",
    "lblEncoder_state = LabelEncoder()\n",
    "lblEncoder_state.fit(dataset['biophx_c'])\n",
    "dataset['biophx_c'] = lblEncoder_state.transform(dataset['biophx_c'])\n",
    "\n",
    "lblEncoder_state = LabelEncoder()\n",
    "lblEncoder_state.fit(dataset['mammtype'])\n",
    "dataset['mammtype'] = lblEncoder_state.transform(dataset['mammtype'])"
   ]
  },
  {
   "cell_type": "code",
   "execution_count": 10,
   "metadata": {},
   "outputs": [
    {
     "data": {
      "image/png": "[encoded data removed]",
      "text/plain": [
       "<Figure size 576x1800 with 1 Axes>"
      ]
     },
     "metadata": {
      "needs_background": "light"
     },
     "output_type": "display_data"
    }
   ],
   "source": [
    "#At what age is Heart Disease shows up more? \n",
    "pd.crosstab(dataset.age_c,dataset.CaTypeO).plot(kind=\"barh\",figsize=(8,25))\n",
    "plt.title('Breast Cancer Diagnoses by Age')\n",
    "plt.xlabel('Frequency')\n",
    "plt.ylabel('Age')\n",
    "plt.show()"
   ]
  },
  {
   "cell_type": "code",
   "execution_count": 11,
   "metadata": {},
   "outputs": [
    {
     "data": {
      "image/png": "[encoded data removed]",
      "text/plain": [
       "<Figure size 720x360 with 1 Axes>"
      ]
     },
     "metadata": {
      "needs_background": "light"
     },
     "output_type": "display_data"
    }
   ],
   "source": [
    "pd.crosstab(dataset.hrt_c,dataset.CaTypeO).plot(kind=\"bar\",figsize=(10,5),color=['teal','lavender' ])\n",
    "plt.xlabel('Hormone Therapy (0 = no, 1 = yes)')\n",
    "plt.xticks(rotation=0)\n",
    "plt.legend([\"No Cancer Diagnosis\", \"Cancer Diagnosis\"])\n",
    "plt.ylabel('Frequency')\n",
    "plt.show()"
   ]
  },
  {
   "cell_type": "code",
   "execution_count": 12,
   "metadata": {},
   "outputs": [
    {
     "data": {
      "text/plain": [
       "<matplotlib.legend.Legend at 0x26cde9fbac8>"
      ]
     },
     "execution_count": 12,
     "metadata": {},
     "output_type": "execute_result"
    },
    {
     "data": {
      "image/png": "[encoded data removed]",
      "text/plain": [
       "<Figure size 864x576 with 2 Axes>"
      ]
     },
     "metadata": {
      "needs_background": "light"
     },
     "output_type": "display_data"
    }
   ],
   "source": [
    "#How does age effect the parameters of heart disease?\n",
    "\n",
    "#Hormone Therapy\n",
    "plt.figure(figsize=(12,8))\n",
    "plt.subplot(2,2,1)\n",
    "plt.scatter(x=dataset.age_c[dataset.CaTypeO==1],y=dataset.hrt_c[dataset.CaTypeO==1],c='black')\n",
    "plt.scatter(x=dataset.age_c[dataset.CaTypeO==0],y=dataset.hrt_c[dataset.CaTypeO==0],c='gold')\n",
    "plt.xlabel('Age')\n",
    "plt.ylabel('Hormone Therapy')\n",
    "plt.legend(['Cancer','No Cancer'])\n",
    "\n",
    "#Family History\n",
    "plt.subplot(2,2,2)\n",
    "plt.scatter(x=dataset.age_c[dataset.CaTypeO==1],y=dataset.famhx_c[dataset.CaTypeO==1],c='black')\n",
    "plt.scatter(x=dataset.age_c[dataset.CaTypeO==0],y=dataset.famhx_c[dataset.CaTypeO==0],c='gold')\n",
    "plt.xlabel('Age')\n",
    "plt.ylabel('Family History')\n",
    "plt.legend(['Cancer','No Cancer'])\n"
   ]
  },
  {
   "cell_type": "code",
   "execution_count": 13,
   "metadata": {},
   "outputs": [],
   "source": [
    "target = dataset[\"CaTypeO\"]\n",
    "target_names = [\"negative\", \"positive\"]"
   ]
  },
  {
   "cell_type": "code",
   "execution_count": 14,
   "metadata": {},
   "outputs": [
    {
     "data": {
      "text/html": [
       "<div>\n",
       "<style scoped>\n",
       "    .dataframe tbody tr th:only-of-type {\n",
       "        vertical-align: middle;\n",
       "    }\n",
       "\n",
       "    .dataframe tbody tr th {\n",
       "        vertical-align: top;\n",
       "    }\n",
       "\n",
       "    .dataframe thead th {\n",
       "        text-align: right;\n",
       "    }\n",
       "</style>\n",
       "<table border=\"1\" class=\"dataframe\">\n",
       "  <thead>\n",
       "    <tr style=\"text-align: right;\">\n",
       "      <th></th>\n",
       "      <th>age_c</th>\n",
       "      <th>assess_c</th>\n",
       "      <th>cancer_c</th>\n",
       "      <th>compfilm_c</th>\n",
       "      <th>density_c</th>\n",
       "      <th>famhx_c</th>\n",
       "      <th>hrt_c</th>\n",
       "      <th>prvmam_c</th>\n",
       "      <th>biophx_c</th>\n",
       "      <th>mammtype</th>\n",
       "      <th>bmi_c</th>\n",
       "    </tr>\n",
       "  </thead>\n",
       "  <tbody>\n",
       "    <tr>\n",
       "      <th>0</th>\n",
       "      <td>62</td>\n",
       "      <td>1</td>\n",
       "      <td>0</td>\n",
       "      <td>1</td>\n",
       "      <td>1</td>\n",
       "      <td>0</td>\n",
       "      <td>0</td>\n",
       "      <td>1</td>\n",
       "      <td>0</td>\n",
       "      <td>0</td>\n",
       "      <td>564</td>\n",
       "    </tr>\n",
       "    <tr>\n",
       "      <th>1</th>\n",
       "      <td>65</td>\n",
       "      <td>1</td>\n",
       "      <td>0</td>\n",
       "      <td>1</td>\n",
       "      <td>3</td>\n",
       "      <td>0</td>\n",
       "      <td>0</td>\n",
       "      <td>1</td>\n",
       "      <td>0</td>\n",
       "      <td>0</td>\n",
       "      <td>0</td>\n",
       "    </tr>\n",
       "    <tr>\n",
       "      <th>2</th>\n",
       "      <td>69</td>\n",
       "      <td>0</td>\n",
       "      <td>0</td>\n",
       "      <td>1</td>\n",
       "      <td>1</td>\n",
       "      <td>0</td>\n",
       "      <td>0</td>\n",
       "      <td>1</td>\n",
       "      <td>0</td>\n",
       "      <td>0</td>\n",
       "      <td>967</td>\n",
       "    </tr>\n",
       "    <tr>\n",
       "      <th>3</th>\n",
       "      <td>64</td>\n",
       "      <td>2</td>\n",
       "      <td>0</td>\n",
       "      <td>1</td>\n",
       "      <td>1</td>\n",
       "      <td>0</td>\n",
       "      <td>0</td>\n",
       "      <td>1</td>\n",
       "      <td>0</td>\n",
       "      <td>0</td>\n",
       "      <td>0</td>\n",
       "    </tr>\n",
       "    <tr>\n",
       "      <th>4</th>\n",
       "      <td>63</td>\n",
       "      <td>3</td>\n",
       "      <td>0</td>\n",
       "      <td>1</td>\n",
       "      <td>1</td>\n",
       "      <td>0</td>\n",
       "      <td>0</td>\n",
       "      <td>1</td>\n",
       "      <td>1</td>\n",
       "      <td>0</td>\n",
       "      <td>1291</td>\n",
       "    </tr>\n",
       "  </tbody>\n",
       "</table>\n",
       "</div>"
      ],
      "text/plain": [
       "   age_c  assess_c  cancer_c  compfilm_c  density_c  famhx_c  hrt_c  prvmam_c  \\\n",
       "0     62         1         0           1          1        0      0         1   \n",
       "1     65         1         0           1          3        0      0         1   \n",
       "2     69         0         0           1          1        0      0         1   \n",
       "3     64         2         0           1          1        0      0         1   \n",
       "4     63         3         0           1          1        0      0         1   \n",
       "\n",
       "   biophx_c  mammtype  bmi_c  \n",
       "0         0         0    564  \n",
       "1         0         0      0  \n",
       "2         0         0    967  \n",
       "3         0         0      0  \n",
       "4         1         0   1291  "
      ]
     },
     "execution_count": 14,
     "metadata": {},
     "output_type": "execute_result"
    }
   ],
   "source": [
    "data = dataset.drop(\"CaTypeO\", axis=1)\n",
    "feature_names = data.columns\n",
    "data.head()"
   ]
  },
  {
   "cell_type": "code",
   "execution_count": 15,
   "metadata": {},
   "outputs": [],
   "source": [
    "# separate train features and label\n",
    "y = target\n",
    "X = data\n",
    "# split dataset into train and test data\n",
    "X_train, X_test, y_train, y_test = train_test_split(X, y, random_state=42)\n"
   ]
  },
  {
   "cell_type": "code",
   "execution_count": 16,
   "metadata": {},
   "outputs": [
    {
     "name": "stdout",
     "output_type": "stream",
     "text": [
      "Testing Accuracy is:  99.43854509947516 %\n"
     ]
    }
   ],
   "source": [
    "# train and test knn model\n",
    "knn = KNeighborsClassifier()\n",
    "knn.fit(X_train, y_train)\n",
    "knn.predict(X_test)\n",
    "print(\"Testing Accuracy is: \", knn.score(X_test, y_test)*100, \"%\")"
   ]
  },
  {
   "cell_type": "code",
   "execution_count": 17,
   "metadata": {},
   "outputs": [
    {
     "name": "stdout",
     "output_type": "stream",
     "text": [
      "Testing Accuracy is:  99.43854509947516 %\n"
     ]
    }
   ],
   "source": [
    "# scaling values into 0-1 range\n",
    "#scaler = MinMaxScaler(feature_range=(0, 1))\n",
    "#features = [\n",
    "#    'assess_c', 'cancer_c', 'compfilm_c', 'density_c', 'famhx_c', 'hrt_c', 'prvmam_c', 'prvmam_c', 'bmi_c', 'biophx_c', 'mammtype']\n",
    "#dataset[features] = scaler.fit_transform(dataset[features])\n",
    "\n",
    "from sklearn.preprocessing import StandardScaler\n",
    "X_train=StandardScaler().fit_transform(X_train)\n",
    "X_test=StandardScaler().fit_transform(X_test)\n",
    "\n",
    "#TEST ACCURACY AGAIN\n",
    "# separate train features and label\n",
    "y = target\n",
    "X = data\n",
    "# split dataset into train and test data\n",
    "X_train, X_test, y_train, y_test = train_test_split(X, y, random_state=42)\n",
    "\n",
    "\n",
    "# train and test knn model\n",
    "knn = KNeighborsClassifier()\n",
    "knn.fit(X_train, y_train)\n",
    "knn.predict(X_test)\n",
    "print(\"Testing Accuracy is: \", knn.score(X_test, y_test)*100, \"%\")"
   ]
  },
  {
   "cell_type": "code",
   "execution_count": 18,
   "metadata": {},
   "outputs": [
    {
     "data": {
      "text/plain": [
       "0    32577\n",
       "1      195\n",
       "Name: CaTypeO, dtype: int64"
      ]
     },
     "execution_count": 18,
     "metadata": {},
     "output_type": "execute_result"
    }
   ],
   "source": [
    "dataset.CaTypeO.value_counts()"
   ]
  },
  {
   "cell_type": "code",
   "execution_count": 19,
   "metadata": {},
   "outputs": [
    {
     "data": {
      "text/plain": [
       "KNeighborsClassifier(algorithm='auto', leaf_size=30, metric='minkowski',\n",
       "                     metric_params=None, n_jobs=None, n_neighbors=5, p=2,\n",
       "                     weights='uniform')"
      ]
     },
     "execution_count": 19,
     "metadata": {},
     "output_type": "execute_result"
    }
   ],
   "source": [
    "#Using KNeighborsClassifier Method of neighbors class to use Nearest Neighbor algorithm\n",
    "from sklearn.neighbors import KNeighborsClassifier\n",
    "classifier = KNeighborsClassifier(n_neighbors = 5, metric = 'minkowski', p = 2)\n",
    "classifier.fit(X_train, y_train)"
   ]
  },
  {
   "cell_type": "code",
   "execution_count": 20,
   "metadata": {},
   "outputs": [
    {
     "name": "stdout",
     "output_type": "stream",
     "text": [
      "Test Acc: 0.994\n"
     ]
    }
   ],
   "source": [
    " # Model Accuracy\n",
    "print('Test Acc: %.3f' % classifier.score(X_test, y_test))"
   ]
  },
  {
   "cell_type": "code",
   "execution_count": 21,
   "metadata": {},
   "outputs": [
    {
     "data": {
      "text/plain": [
       "SVC(C=1.0, break_ties=False, cache_size=200, class_weight=None, coef0=0.0,\n",
       "    decision_function_shape='ovr', degree=3, gamma='scale', kernel='linear',\n",
       "    max_iter=-1, probability=False, random_state=None, shrinking=True,\n",
       "    tol=0.001, verbose=False)"
      ]
     },
     "execution_count": 21,
     "metadata": {},
     "output_type": "execute_result"
    }
   ],
   "source": [
    "#Using SVC method of svm class to use Support Vector Machine Algorithm\n",
    "from sklearn.svm import SVC\n",
    "classifier = SVC(kernel = 'linear')\n",
    "classifier.fit(X_train, y_train)"
   ]
  },
  {
   "cell_type": "code",
   "execution_count": 22,
   "metadata": {},
   "outputs": [
    {
     "name": "stdout",
     "output_type": "stream",
     "text": [
      "Test Acc: 1.000\n"
     ]
    }
   ],
   "source": [
    " # Model Accuracy\n",
    "print('Test Acc: %.3f' % classifier.score(X_test, y_test))"
   ]
  },
  {
   "cell_type": "code",
   "execution_count": 23,
   "metadata": {},
   "outputs": [
    {
     "data": {
      "text/plain": [
       "SVC(C=1.0, break_ties=False, cache_size=200, class_weight=None, coef0=0.0,\n",
       "    decision_function_shape='ovr', degree=3, gamma='scale', kernel='rbf',\n",
       "    max_iter=-1, probability=False, random_state=0, shrinking=True, tol=0.001,\n",
       "    verbose=False)"
      ]
     },
     "execution_count": 23,
     "metadata": {},
     "output_type": "execute_result"
    }
   ],
   "source": [
    "#Using SVC method of svm class to use Kernel SVM Algorithm\n",
    "from sklearn.svm import SVC\n",
    "classifier = SVC(kernel = 'rbf', random_state = 0)\n",
    "classifier.fit(X_train, y_train)"
   ]
  },
  {
   "cell_type": "code",
   "execution_count": 24,
   "metadata": {},
   "outputs": [
    {
     "name": "stdout",
     "output_type": "stream",
     "text": [
      "Test Acc: 0.994\n"
     ]
    }
   ],
   "source": [
    " # Model Accuracy\n",
    "print('Test Acc: %.3f' % classifier.score(X_test, y_test))"
   ]
  },
  {
   "cell_type": "code",
   "execution_count": 25,
   "metadata": {},
   "outputs": [
    {
     "data": {
      "text/plain": [
       "GaussianNB(priors=None, var_smoothing=1e-09)"
      ]
     },
     "execution_count": 25,
     "metadata": {},
     "output_type": "execute_result"
    }
   ],
   "source": [
    "#Using GaussianNB method of naïve_bayes class to use Naïve Bayes Algorithm\n",
    "from sklearn.naive_bayes import GaussianNB\n",
    "classifier = GaussianNB()\n",
    "classifier.fit(X_train, y_train)"
   ]
  },
  {
   "cell_type": "code",
   "execution_count": 26,
   "metadata": {},
   "outputs": [
    {
     "name": "stdout",
     "output_type": "stream",
     "text": [
      "Test Acc: 1.000\n"
     ]
    }
   ],
   "source": [
    " # Model Accuracy\n",
    "print('Test Acc: %.3f' % classifier.score(X_test, y_test))"
   ]
  },
  {
   "cell_type": "code",
   "execution_count": 27,
   "metadata": {},
   "outputs": [
    {
     "data": {
      "text/plain": [
       "DecisionTreeClassifier(ccp_alpha=0.0, class_weight=None, criterion='entropy',\n",
       "                       max_depth=None, max_features=None, max_leaf_nodes=None,\n",
       "                       min_impurity_decrease=0.0, min_impurity_split=None,\n",
       "                       min_samples_leaf=1, min_samples_split=2,\n",
       "                       min_weight_fraction_leaf=0.0, presort='deprecated',\n",
       "                       random_state=0, splitter='best')"
      ]
     },
     "execution_count": 27,
     "metadata": {},
     "output_type": "execute_result"
    }
   ],
   "source": [
    "#Using DecisionTreeClassifier of tree class to use Decision Tree Algorithm\n",
    "\n",
    "from sklearn.tree import DecisionTreeClassifier\n",
    "classifier = DecisionTreeClassifier(criterion = 'entropy', random_state = 0)\n",
    "classifier.fit(X_train, y_train)"
   ]
  },
  {
   "cell_type": "code",
   "execution_count": 28,
   "metadata": {},
   "outputs": [
    {
     "name": "stdout",
     "output_type": "stream",
     "text": [
      "Test Acc: 1.000\n"
     ]
    }
   ],
   "source": [
    " # Model Accuracy\n",
    "print('Test Acc: %.3f' % classifier.score(X_test, y_test))"
   ]
  },
  {
   "cell_type": "code",
   "execution_count": 29,
   "metadata": {},
   "outputs": [
    {
     "data": {
      "text/plain": [
       "RandomForestClassifier(bootstrap=True, ccp_alpha=0.0, class_weight=None,\n",
       "                       criterion='entropy', max_depth=None, max_features='auto',\n",
       "                       max_leaf_nodes=None, max_samples=None,\n",
       "                       min_impurity_decrease=0.0, min_impurity_split=None,\n",
       "                       min_samples_leaf=1, min_samples_split=2,\n",
       "                       min_weight_fraction_leaf=0.0, n_estimators=10,\n",
       "                       n_jobs=None, oob_score=False, random_state=0, verbose=0,\n",
       "                       warm_start=False)"
      ]
     },
     "execution_count": 29,
     "metadata": {},
     "output_type": "execute_result"
    }
   ],
   "source": [
    "#Using RandomForestClassifier method of ensemble class to use Random Forest Classification algorithm\n",
    "\n",
    "from sklearn.ensemble import RandomForestClassifier\n",
    "classifier = RandomForestClassifier(n_estimators = 10, criterion = 'entropy', random_state = 0)\n",
    "classifier.fit(X_train, y_train)"
   ]
  },
  {
   "cell_type": "code",
   "execution_count": 30,
   "metadata": {},
   "outputs": [
    {
     "name": "stdout",
     "output_type": "stream",
     "text": [
      "Test Acc: 1.000\n"
     ]
    }
   ],
   "source": [
    " # Model Accuracy\n",
    "print('Test Acc: %.3f' % classifier.score(X_test, y_test))"
   ]
  },
  {
   "cell_type": "code",
   "execution_count": 31,
   "metadata": {},
   "outputs": [],
   "source": [
    "y_pred = classifier.predict(X_test)"
   ]
  },
  {
   "cell_type": "code",
   "execution_count": 32,
   "metadata": {},
   "outputs": [],
   "source": [
    "from sklearn.metrics import confusion_matrix\n",
    "cm = confusion_matrix(y_test, y_pred)"
   ]
  },
  {
   "cell_type": "code",
   "execution_count": 33,
   "metadata": {},
   "outputs": [
    {
     "data": {
      "text/plain": [
       "array([[8147,    0],\n",
       "       [   0,   46]], dtype=int64)"
      ]
     },
     "execution_count": 33,
     "metadata": {},
     "output_type": "execute_result"
    }
   ],
   "source": [
    "cm"
   ]
  }
 ],
 "metadata": {
  "kernelspec": {
   "display_name": "Python 3",
   "language": "python",
   "name": "python3"
  },
  "language_info": {
   "codemirror_mode": {
    "name": "ipython",
    "version": 3
   },
   "file_extension": ".py",
   "mimetype": "text/x-python",
   "name": "python",
   "nbconvert_exporter": "python",
   "pygments_lexer": "ipython3",
   "version": "3.7.6"
  }
 },
 "nbformat": 4,
 "nbformat_minor": 4
}
